{
  "nbformat": 4,
  "nbformat_minor": 0,
  "metadata": {
    "colab": {
      "provenance": [],
      "authorship_tag": "ABX9TyNGPgcPwgFDVdtck4EJDac5",
      "include_colab_link": true
    },
    "kernelspec": {
      "name": "python3",
      "display_name": "Python 3"
    },
    "language_info": {
      "name": "python"
    }
  },
  "cells": [
    {
      "cell_type": "markdown",
      "metadata": {
        "id": "view-in-github",
        "colab_type": "text"
      },
      "source": [
        "<a href=\"https://colab.research.google.com/github/m0fauzi/BEP2073_S22/blob/main/Lec2.ipynb\" target=\"_parent\"><img src=\"https://colab.research.google.com/assets/colab-badge.svg\" alt=\"Open In Colab\"/></a>"
      ]
    },
    {
      "cell_type": "code",
      "execution_count": 4,
      "metadata": {
        "colab": {
          "base_uri": "https://localhost:8080/"
        },
        "id": "fNgvSp73BteD",
        "outputId": "be7ca868-be8b-4676-950e-815f44c64987"
      },
      "outputs": [
        {
          "output_type": "stream",
          "name": "stdout",
          "text": [
            "b is greater than a\n"
          ]
        }
      ],
      "source": [
        "a = 33\n",
        "b = 200\n",
        "if b > a:\n",
        "  print('b is greater than a')\n",
        "else:\n",
        "  print('a is greater than b')"
      ]
    },
    {
      "cell_type": "code",
      "source": [
        "count = 1\n",
        "for x in range(3):\n",
        "  count += 1\n",
        "  print(count)"
      ],
      "metadata": {
        "colab": {
          "base_uri": "https://localhost:8080/"
        },
        "id": "ttA_DYWOGIDY",
        "outputId": "a214c118-14dd-4e31-8031-b464472c7d36"
      },
      "execution_count": 6,
      "outputs": [
        {
          "output_type": "stream",
          "name": "stdout",
          "text": [
            "2\n",
            "3\n",
            "4\n"
          ]
        }
      ]
    },
    {
      "cell_type": "code",
      "source": [
        "count = 1\n",
        "for x in range(3):\n",
        "  count +=1\n",
        "  print('Iteration #%d; Count is %d' %(x,count))"
      ],
      "metadata": {
        "colab": {
          "base_uri": "https://localhost:8080/"
        },
        "id": "uU4USCydGqr8",
        "outputId": "d5d41359-0382-41dd-a6df-c89871f55ac1"
      },
      "execution_count": 8,
      "outputs": [
        {
          "output_type": "stream",
          "name": "stdout",
          "text": [
            "Iteration #0; Count is 2\n",
            "Iteration #1; Count is 3\n",
            "Iteration #2; Count is 4\n"
          ]
        }
      ]
    },
    {
      "cell_type": "code",
      "source": [
        "count = 1\n",
        "for x in range(20):\n",
        "  if x < 5:\n",
        "    count +=1\n",
        "  elif x < 10 and x >= 5:\n",
        "    count +=2  \n",
        "  else:\n",
        "    count +=3\n",
        "  \n",
        "  print('Iteration #%d; Count is %d' %(x,count))\n"
      ],
      "metadata": {
        "colab": {
          "base_uri": "https://localhost:8080/"
        },
        "id": "9icx0mb2HlgL",
        "outputId": "f278a7ca-01a9-4ac2-e2e3-6aab6cbef1d3"
      },
      "execution_count": 12,
      "outputs": [
        {
          "output_type": "stream",
          "name": "stdout",
          "text": [
            "Iteration #0; Count is 2\n",
            "Iteration #1; Count is 3\n",
            "Iteration #2; Count is 4\n",
            "Iteration #3; Count is 5\n",
            "Iteration #4; Count is 6\n",
            "Iteration #5; Count is 8\n",
            "Iteration #6; Count is 10\n",
            "Iteration #7; Count is 12\n",
            "Iteration #8; Count is 14\n",
            "Iteration #9; Count is 16\n",
            "Iteration #10; Count is 19\n",
            "Iteration #11; Count is 22\n",
            "Iteration #12; Count is 25\n",
            "Iteration #13; Count is 28\n",
            "Iteration #14; Count is 31\n",
            "Iteration #15; Count is 34\n",
            "Iteration #16; Count is 37\n",
            "Iteration #17; Count is 40\n",
            "Iteration #18; Count is 43\n",
            "Iteration #19; Count is 46\n"
          ]
        }
      ]
    },
    {
      "cell_type": "code",
      "source": [
        "count = 1\n",
        "for x in range(1,20,5):\n",
        "  if x < 5:\n",
        "    count +=1\n",
        "  elif x < 10 and x >= 5:\n",
        "    count +=2  \n",
        "  else:\n",
        "    count +=3\n",
        "  \n",
        "  print('Iteration #%d; Count is %d' %(x,count))\n"
      ],
      "metadata": {
        "colab": {
          "base_uri": "https://localhost:8080/"
        },
        "id": "JphUX1GYLFgf",
        "outputId": "34a32828-30c1-40c9-beb7-d8327f039f0d"
      },
      "execution_count": 14,
      "outputs": [
        {
          "output_type": "stream",
          "name": "stdout",
          "text": [
            "Iteration #1; Count is 2\n",
            "Iteration #6; Count is 4\n",
            "Iteration #11; Count is 7\n",
            "Iteration #16; Count is 10\n"
          ]
        }
      ]
    },
    {
      "cell_type": "code",
      "source": [],
      "metadata": {
        "id": "nwtOmh3BMT3g"
      },
      "execution_count": null,
      "outputs": []
    }
  ]
}