{
  "nbformat": 4,
  "nbformat_minor": 0,
  "metadata": {
    "colab": {
      "provenance": [],
      "authorship_tag": "ABX9TyNW5eFjPKDMh4YSDZDlaExm",
      "include_colab_link": true
    },
    "kernelspec": {
      "name": "python3",
      "display_name": "Python 3"
    },
    "language_info": {
      "name": "python"
    }
  },
  "cells": [
    {
      "cell_type": "markdown",
      "metadata": {
        "id": "view-in-github",
        "colab_type": "text"
      },
      "source": [
        "<a href=\"https://colab.research.google.com/github/m0fauzi/BEP2073_S22/blob/main/L5.ipynb\" target=\"_parent\"><img src=\"https://colab.research.google.com/assets/colab-badge.svg\" alt=\"Open In Colab\"/></a>"
      ]
    },
    {
      "cell_type": "code",
      "execution_count": 12,
      "metadata": {
        "colab": {
          "base_uri": "https://localhost:8080/"
        },
        "id": "8iUNpV7_pwuc",
        "outputId": "1ef384ba-8c0d-4f80-b8f6-3f66c2fd2a9c"
      },
      "outputs": [
        {
          "output_type": "stream",
          "name": "stdout",
          "text": [
            "3 is a prime number\n",
            "5 is a prime number\n",
            "7 is a prime number\n",
            "11 is a prime number\n",
            "13 is a prime number\n",
            "17 is a prime number\n",
            "19 is a prime number\n",
            "23 is a prime number\n",
            "29 is a prime number\n",
            "31 is a prime number\n",
            "37 is a prime number\n",
            "41 is a prime number\n",
            "43 is a prime number\n",
            "47 is a prime number\n",
            "53 is a prime number\n",
            "59 is a prime number\n",
            "61 is a prime number\n",
            "67 is a prime number\n",
            "71 is a prime number\n",
            "73 is a prime number\n",
            "79 is a prime number\n",
            "83 is a prime number\n",
            "89 is a prime number\n",
            "97 is a prime number\n",
            "Total count of prime number is 24\n"
          ]
        }
      ],
      "source": [
        "#Display prime number from 0 to 100\n",
        "c = 0\n",
        "for y in range(101):\n",
        "  if(y>2):\n",
        "    for x in range(2,y):\n",
        "      if y%x == 0:        \n",
        "        break\n",
        "    else:\n",
        "      print('%d is a prime number'%y)\n",
        "      c += 1  \n",
        "print('Total count of prime number is',c)"
      ]
    },
    {
      "cell_type": "code",
      "source": [
        "Data = [[1,2,3],[4,7,8]]\n",
        "print(Data)"
      ],
      "metadata": {
        "colab": {
          "base_uri": "https://localhost:8080/"
        },
        "id": "71EFU45HvAI-",
        "outputId": "5d93a4ae-b5d0-432c-85b5-b006a9d88e64"
      },
      "execution_count": 13,
      "outputs": [
        {
          "output_type": "stream",
          "name": "stdout",
          "text": [
            "[[1, 2, 3], [4, 7, 8]]\n"
          ]
        }
      ]
    },
    {
      "cell_type": "code",
      "source": [
        "# Define T and DO\n",
        "T = [0,8,16,24,32,40]\n",
        "DO = [14.621,11.843,9.870,8.470,7.305,6.413]\n",
        "#look for index \n",
        "Tt = 8\n",
        "x = T.index(Tt)\n",
        "#Determine DO at index\n",
        "y = DO[x]\n",
        "print('DO at Temperature %dC is %.3fmg/L'%(Tt,y))"
      ],
      "metadata": {
        "colab": {
          "base_uri": "https://localhost:8080/"
        },
        "id": "WjFpArh0wX9W",
        "outputId": "4ed66212-b9a0-4ae8-f773-884ad80c40f3"
      },
      "execution_count": 18,
      "outputs": [
        {
          "output_type": "stream",
          "name": "stdout",
          "text": [
            "DO at Temperature 8C is 11.843mg/L\n"
          ]
        }
      ]
    },
    {
      "cell_type": "code",
      "source": [
        "n = [0.035,0.02,0.015,0.03,0.022]\n",
        "S = [0.0001,0.0002,0.001,0.007,0.003]\n",
        "B = [10,8,20,24,15]\n",
        "H = [2,1,1.5,3,2.5]\n",
        "Ch = 'ABCDE'\n",
        "for i in range(len(n)):\n",
        "  u = (S[i]**0.5)/(n[i])*((B[i]*H[i])/(B[i]+2*H[i]))**(2/3)\n",
        "  print('Velocity of channel %s is %f m/s'%(Ch[i],u))"
      ],
      "metadata": {
        "colab": {
          "base_uri": "https://localhost:8080/"
        },
        "id": "vSD5TE1lzaDe",
        "outputId": "dda73603-8697-4085-c18f-14a7a3c6a704"
      },
      "execution_count": 22,
      "outputs": [
        {
          "output_type": "stream",
          "name": "stdout",
          "text": [
            "Velocity of channel A is 0.362410 m/s\n",
            "Velocity of channel B is 0.609366 m/s\n",
            "Velocity of channel C is 2.516736 m/s\n",
            "Velocity of channel D is 4.999216 m/s\n",
            "Velocity of channel E is 3.785635 m/s\n"
          ]
        }
      ]
    }
  ]
}