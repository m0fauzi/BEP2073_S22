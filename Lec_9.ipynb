{
  "nbformat": 4,
  "nbformat_minor": 0,
  "metadata": {
    "colab": {
      "provenance": [],
      "authorship_tag": "ABX9TyN17x4CtDubuM9qKeA0S/bZ",
      "include_colab_link": true
    },
    "kernelspec": {
      "name": "python3",
      "display_name": "Python 3"
    },
    "language_info": {
      "name": "python"
    }
  },
  "cells": [
    {
      "cell_type": "markdown",
      "metadata": {
        "id": "view-in-github",
        "colab_type": "text"
      },
      "source": [
        "<a href=\"https://colab.research.google.com/github/m0fauzi/BEP2073_S22/blob/main/Lec_9.ipynb\" target=\"_parent\"><img src=\"https://colab.research.google.com/assets/colab-badge.svg\" alt=\"Open In Colab\"/></a>"
      ]
    },
    {
      "cell_type": "code",
      "execution_count": null,
      "metadata": {
        "colab": {
          "base_uri": "https://localhost:8080/"
        },
        "id": "44P66CiXFWeV",
        "outputId": "3a760dc3-5d56-457c-8019-20aae8277378"
      },
      "outputs": [
        {
          "output_type": "stream",
          "name": "stdout",
          "text": [
            "19.642857142857142\n"
          ]
        }
      ],
      "source": [
        "# Calculate area of a circle for r = 2.5 in.\n",
        "# Duration 2 mins\n",
        "\n",
        "pi = 22/7\n",
        "r = 2.5\n",
        "Area = pi*r*r\n",
        "print(Area)"
      ]
    },
    {
      "cell_type": "code",
      "source": [
        "pi = 22/7\n",
        "r = 2.5\n",
        "Area = pi*r*r\n",
        "print('Area is',Area,'in2')"
      ],
      "metadata": {
        "colab": {
          "base_uri": "https://localhost:8080/"
        },
        "id": "xI2zaJosG3LX",
        "outputId": "dbbc9649-a981-47f9-8440-ad1e8cf364ac"
      },
      "execution_count": null,
      "outputs": [
        {
          "output_type": "stream",
          "name": "stdout",
          "text": [
            "Area is 19.642857142857142 in2\n"
          ]
        }
      ]
    },
    {
      "cell_type": "code",
      "source": [
        "pi = 22/7\n",
        "r = float(input('Radius (in) = '))\n",
        "Area = pi*r**2\n",
        "print('Area is %.3f in2'%Area)"
      ],
      "metadata": {
        "colab": {
          "base_uri": "https://localhost:8080/"
        },
        "id": "MngcQ54ZHI_L",
        "outputId": "d71498f6-9797-4cd1-b6c8-03b63a1b71ca"
      },
      "execution_count": null,
      "outputs": [
        {
          "output_type": "stream",
          "name": "stdout",
          "text": [
            "Radius (in) = 2.365\n",
            "Area is 17.579 in2\n"
          ]
        }
      ]
    },
    {
      "cell_type": "code",
      "source": [
        "for i in range(5):\n",
        "  print('Menu to select:')\n",
        "  print('c - to calculate Area')\n",
        "  print('x - to exit')\n",
        "  sel = input('Selection: ')\n",
        "  if sel == 'c':\n",
        "    pi = 22/7\n",
        "    r = float(input('Radius (in) = '))\n",
        "    Area = pi*r**2\n",
        "    print('Area is %.3f in2'%Area)\n",
        "  elif sel == 'x':\n",
        "    print('Thank you..')\n",
        "    break"
      ],
      "metadata": {
        "colab": {
          "base_uri": "https://localhost:8080/"
        },
        "id": "HHIMgR9wIAq_",
        "outputId": "ccbb2dc0-6851-45af-b2f3-5d7b5c2156cb"
      },
      "execution_count": null,
      "outputs": [
        {
          "name": "stdout",
          "output_type": "stream",
          "text": [
            "Menu to select:\n",
            "c - to calculate Area\n",
            "x - to exit\n",
            "Selection: c\n",
            "Radius (in) = 2.5\n",
            "Area is 19.643 in2\n",
            "Menu to select:\n",
            "c - to calculate Area\n",
            "x - to exit\n",
            "Selection: c\n",
            "Radius (in) = 6.5\n",
            "Area is 132.786 in2\n",
            "Menu to select:\n",
            "c - to calculate Area\n",
            "x - to exit\n",
            "Selection: x\n"
          ]
        }
      ]
    },
    {
      "cell_type": "code",
      "source": [
        "import numpy as np\n",
        "\n",
        "r = float(input('Radius (in) = '))\n",
        "Area = np.pi*r**2\n",
        "print('Area is %.3f in2'%Area)"
      ],
      "metadata": {
        "colab": {
          "base_uri": "https://localhost:8080/"
        },
        "id": "ASICNBjIJA1-",
        "outputId": "a3a04dc3-c06e-4965-d7ef-39031b94667d"
      },
      "execution_count": null,
      "outputs": [
        {
          "output_type": "stream",
          "name": "stdout",
          "text": [
            "Radius (in) = 2.5\n",
            "Area is 19.635 in2\n"
          ]
        }
      ]
    },
    {
      "cell_type": "code",
      "source": [
        "from numpy import pi\n",
        "\n",
        "r = float(input('Radius (in) = '))\n",
        "Area = pi*r**2\n",
        "print('Area is %.3f in2'%Area)"
      ],
      "metadata": {
        "colab": {
          "base_uri": "https://localhost:8080/"
        },
        "id": "H1S2M0l_JNkm",
        "outputId": "72c9f611-ffe8-4c3e-d620-d6ec927508c3"
      },
      "execution_count": null,
      "outputs": [
        {
          "output_type": "stream",
          "name": "stdout",
          "text": [
            "Radius (in) = 2.5\n",
            "Area is 19.635 in2\n"
          ]
        }
      ]
    },
    {
      "cell_type": "code",
      "source": [
        "# 𝑦 = 7 sin⁡(𝑥) − 3 cos⁡(2𝑥)\n",
        "\n",
        "import math\n",
        "x = 1.5\n",
        "y = 7*math.sin(x) - 3*math.cos(2*x)\n",
        "print('Ans = %0.3f'%y)"
      ],
      "metadata": {
        "colab": {
          "base_uri": "https://localhost:8080/"
        },
        "id": "abMgE9nnJriU",
        "outputId": "a3597765-f59a-47e0-ba2f-f1ebeb9e1a31"
      },
      "execution_count": null,
      "outputs": [
        {
          "output_type": "stream",
          "name": "stdout",
          "text": [
            "Ans = 9.952\n"
          ]
        }
      ]
    },
    {
      "cell_type": "code",
      "source": [
        "import numpy\n",
        "x = [1.5, 1.7, 2.5, 9]\n",
        "y = 7*numpy.sin(x) - 3*numpy.cos(x)\n",
        "print(y)"
      ],
      "metadata": {
        "colab": {
          "base_uri": "https://localhost:8080/"
        },
        "id": "TMIKpXuFKT5U",
        "outputId": "57e7e2ab-28f3-4c77-dfa2-edbafb5d6261"
      },
      "execution_count": null,
      "outputs": [
        {
          "output_type": "stream",
          "name": "stdout",
          "text": [
            "[6.7702533  7.32818716 6.59273586 5.61822018]\n"
          ]
        }
      ]
    },
    {
      "cell_type": "code",
      "source": [
        "# Function\n",
        "def Area():\n",
        "  r = float(input('Radius (in) = '))\n",
        "  Area = pi*r**2\n",
        "  print('Area is %.3f in2'%Area)\n"
      ],
      "metadata": {
        "id": "6rudORqiLBmv"
      },
      "execution_count": null,
      "outputs": []
    },
    {
      "cell_type": "code",
      "source": [
        "Area()"
      ],
      "metadata": {
        "colab": {
          "base_uri": "https://localhost:8080/"
        },
        "id": "6riTcqCnLSUt",
        "outputId": "8b4948f6-fd14-4d87-fb43-26487073602c"
      },
      "execution_count": null,
      "outputs": [
        {
          "output_type": "stream",
          "name": "stdout",
          "text": [
            "Radius (in) = 1.2\n",
            "Area is 4.524 in2\n"
          ]
        }
      ]
    },
    {
      "cell_type": "code",
      "source": [
        "# Function\n",
        "def Area(r):\n",
        "  Area = pi*r**2\n",
        "  print('Area is %.3f in2'%Area)"
      ],
      "metadata": {
        "id": "E9YHSFNTLeGw"
      },
      "execution_count": null,
      "outputs": []
    },
    {
      "cell_type": "code",
      "source": [
        "Area(1.2)"
      ],
      "metadata": {
        "colab": {
          "base_uri": "https://localhost:8080/"
        },
        "id": "xvzOyqBRLhqj",
        "outputId": "4fe11b44-3eb2-4afb-f04c-553b62a0d8a2"
      },
      "execution_count": null,
      "outputs": [
        {
          "output_type": "stream",
          "name": "stdout",
          "text": [
            "Area is 4.524 in2\n"
          ]
        }
      ]
    },
    {
      "cell_type": "code",
      "source": [
        "# Function\n",
        "def Area(r):\n",
        "  Area = pi*r**2\n",
        "  return Area"
      ],
      "metadata": {
        "id": "If9H2oImLrRU"
      },
      "execution_count": null,
      "outputs": []
    },
    {
      "cell_type": "code",
      "source": [
        "A = Area(3)\n",
        "B = Area(2.5)\n",
        "C = Area(3.6)\n",
        "print('A =',A)\n",
        "print('B =',B)\n",
        "print('C =',C)"
      ],
      "metadata": {
        "colab": {
          "base_uri": "https://localhost:8080/"
        },
        "id": "_ZpWWVWXLzZb",
        "outputId": "98f08b78-a1f9-4f60-9a08-ee04fedba05a"
      },
      "execution_count": null,
      "outputs": [
        {
          "output_type": "stream",
          "name": "stdout",
          "text": [
            "A = 28.274333882308138\n",
            "B = 19.634954084936208\n",
            "C = 40.71504079052372\n"
          ]
        }
      ]
    },
    {
      "cell_type": "code",
      "source": [
        "# Function\n",
        "def Area(r=2.5):\n",
        "  Area = pi*r**2\n",
        "  return Area"
      ],
      "metadata": {
        "id": "jvc_Mj0QMr7R"
      },
      "execution_count": null,
      "outputs": []
    },
    {
      "cell_type": "code",
      "source": [
        "Area()"
      ],
      "metadata": {
        "colab": {
          "base_uri": "https://localhost:8080/"
        },
        "id": "cJYpqhqpM0Un",
        "outputId": "af8be00f-ae17-43dd-d4ff-5b59acccaae6"
      },
      "execution_count": null,
      "outputs": [
        {
          "output_type": "execute_result",
          "data": {
            "text/plain": [
              "19.634954084936208"
            ]
          },
          "metadata": {},
          "execution_count": 38
        }
      ]
    },
    {
      "cell_type": "code",
      "source": [
        "Area(3.5)"
      ],
      "metadata": {
        "colab": {
          "base_uri": "https://localhost:8080/"
        },
        "id": "ALZHegl-M5aH",
        "outputId": "cb13a5c9-6d0d-4960-d270-409c2fcfed55"
      },
      "execution_count": null,
      "outputs": [
        {
          "output_type": "execute_result",
          "data": {
            "text/plain": [
              "38.48451000647496"
            ]
          },
          "metadata": {},
          "execution_count": 39
        }
      ]
    },
    {
      "cell_type": "code",
      "source": [
        "def fun(x,y):\n",
        "  return 2*x + y"
      ],
      "metadata": {
        "id": "w5Dy_HFVNR7q"
      },
      "execution_count": null,
      "outputs": []
    },
    {
      "cell_type": "code",
      "source": [
        "fun(2,3)"
      ],
      "metadata": {
        "colab": {
          "base_uri": "https://localhost:8080/"
        },
        "id": "VsOqMMzSNZ1o",
        "outputId": "fca86388-13eb-4967-b281-e57892efb705"
      },
      "execution_count": null,
      "outputs": [
        {
          "output_type": "execute_result",
          "data": {
            "text/plain": [
              "7"
            ]
          },
          "metadata": {},
          "execution_count": 44
        }
      ]
    },
    {
      "cell_type": "code",
      "source": [
        "fun(3,2)"
      ],
      "metadata": {
        "colab": {
          "base_uri": "https://localhost:8080/"
        },
        "id": "H4ozTIeRNoAy",
        "outputId": "b1632f9a-dd50-484e-a85e-b394de22fac5"
      },
      "execution_count": null,
      "outputs": [
        {
          "output_type": "execute_result",
          "data": {
            "text/plain": [
              "8"
            ]
          },
          "metadata": {},
          "execution_count": 45
        }
      ]
    },
    {
      "cell_type": "code",
      "source": [
        "fun(y=3,x=2)"
      ],
      "metadata": {
        "colab": {
          "base_uri": "https://localhost:8080/"
        },
        "id": "fIzn_FnRNsKs",
        "outputId": "fcb3b8c1-421c-44dd-d93c-b41ec793a0ac"
      },
      "execution_count": null,
      "outputs": [
        {
          "output_type": "execute_result",
          "data": {
            "text/plain": [
              "7"
            ]
          },
          "metadata": {},
          "execution_count": 46
        }
      ]
    },
    {
      "cell_type": "code",
      "source": [
        "def fun(x,y):\n",
        "  ''' This is example of function 2*x + y'''\n",
        "  return 2*x + y"
      ],
      "metadata": {
        "id": "vpReor8PN06f"
      },
      "execution_count": null,
      "outputs": []
    },
    {
      "cell_type": "code",
      "source": [
        "fun(2,3)"
      ],
      "metadata": {
        "colab": {
          "base_uri": "https://localhost:8080/"
        },
        "id": "kblXvhUXN-n9",
        "outputId": "8ba5f947-f11d-486a-aaac-33e4ba7d1192"
      },
      "execution_count": null,
      "outputs": [
        {
          "output_type": "execute_result",
          "data": {
            "text/plain": [
              "7"
            ]
          },
          "metadata": {},
          "execution_count": 48
        }
      ]
    },
    {
      "cell_type": "code",
      "source": [
        "fun?"
      ],
      "metadata": {
        "id": "WO1J6LY2ODN2"
      },
      "execution_count": null,
      "outputs": []
    },
    {
      "cell_type": "code",
      "source": [
        "# Find Factorial of 5\n",
        "Ans = 5*4*3*2*1\n",
        "print(Ans)"
      ],
      "metadata": {
        "colab": {
          "base_uri": "https://localhost:8080/"
        },
        "id": "JXnGxWPYOSNQ",
        "outputId": "a29c21d6-96d3-4beb-9145-9f7c66114506"
      },
      "execution_count": null,
      "outputs": [
        {
          "output_type": "stream",
          "name": "stdout",
          "text": [
            "120\n"
          ]
        }
      ]
    },
    {
      "cell_type": "code",
      "source": [
        "# Q. Find Factorial of number for user specific input (Integer).\n",
        "# Duration: 5 mins (5:20PM)\n",
        "# hint:\n",
        "# 1. input() then convert to integer\n",
        "# 2. for loop\n",
        "N = int(input('Type integer to calculate factorial: '))\n",
        "ans = 1\n",
        "for i in range(1,N+1):\n",
        "  ans = ans*i\n",
        "\n",
        "print('Answer is',ans)"
      ],
      "metadata": {
        "colab": {
          "base_uri": "https://localhost:8080/"
        },
        "id": "wamD65tQORaj",
        "outputId": "6fcc8840-2773-494a-c3bb-b84b783c3012"
      },
      "execution_count": null,
      "outputs": [
        {
          "output_type": "stream",
          "name": "stdout",
          "text": [
            "Type integer to calculate factorial: 8\n",
            "Answer is 40320\n"
          ]
        }
      ]
    },
    {
      "cell_type": "code",
      "source": [
        "def factorial(N):\n",
        "  ans = 1\n",
        "  for i in range(1,N+1):\n",
        "    ans = ans*i\n",
        "  return ans"
      ],
      "metadata": {
        "id": "SyKabZ0xRLPw"
      },
      "execution_count": null,
      "outputs": []
    },
    {
      "cell_type": "code",
      "source": [
        "factorial(5)"
      ],
      "metadata": {
        "colab": {
          "base_uri": "https://localhost:8080/"
        },
        "id": "oUS7hhR4RRaV",
        "outputId": "4e909d6b-c96e-42d6-9807-029673b52315"
      },
      "execution_count": null,
      "outputs": [
        {
          "output_type": "execute_result",
          "data": {
            "text/plain": [
              "120"
            ]
          },
          "metadata": {},
          "execution_count": 61
        }
      ]
    },
    {
      "cell_type": "code",
      "source": [],
      "metadata": {
        "id": "UqSPdUouSBZ7"
      },
      "execution_count": null,
      "outputs": []
    },
    {
      "cell_type": "code",
      "source": [
        "#find cos(5) by using taylor serries expansion at 3rd degree\n",
        "x = 1.5\n",
        "ans = 1 - x**2/factorial(2) + x**4/factorial(4)\n",
        "print(ans)"
      ],
      "metadata": {
        "colab": {
          "base_uri": "https://localhost:8080/"
        },
        "id": "O7dUsebGRdly",
        "outputId": "e83f41b0-2ef0-4093-cfc6-b068c3600681"
      },
      "execution_count": null,
      "outputs": [
        {
          "output_type": "stream",
          "name": "stdout",
          "text": [
            "0.0859375\n"
          ]
        }
      ]
    },
    {
      "cell_type": "code",
      "source": [
        "import numpy as np\n",
        "np.cos(x)\n"
      ],
      "metadata": {
        "colab": {
          "base_uri": "https://localhost:8080/"
        },
        "id": "FOftvjzzSYcf",
        "outputId": "babfc1f0-4fb0-4562-bd37-ff2f1bf5a2da"
      },
      "execution_count": null,
      "outputs": [
        {
          "output_type": "execute_result",
          "data": {
            "text/plain": [
              "0.0707372016677029"
            ]
          },
          "metadata": {},
          "execution_count": 63
        }
      ]
    },
    {
      "cell_type": "code",
      "source": [
        "def g(x):\n",
        "  a = 20\n",
        "  return a*x #60\n",
        "def h(x):\n",
        "  b = 20\n",
        "  a = 30\n",
        "  return a*x + b #(120 + 20) 140"
      ],
      "metadata": {
        "id": "dpCep1WNTAiu"
      },
      "execution_count": null,
      "outputs": []
    },
    {
      "cell_type": "code",
      "source": [
        "ans = g(3) + h(4)\n",
        "print(ans)"
      ],
      "metadata": {
        "colab": {
          "base_uri": "https://localhost:8080/"
        },
        "id": "TqqzrykLTZes",
        "outputId": "f993b3e6-1c45-4182-84e6-84c8995eb233"
      },
      "execution_count": null,
      "outputs": [
        {
          "output_type": "stream",
          "name": "stdout",
          "text": [
            "200\n"
          ]
        }
      ]
    },
    {
      "cell_type": "code",
      "source": [
        "global a\n",
        "a = 50\n",
        "def g(x):\n",
        "  return a*x\n",
        "def h(x):\n",
        "  return a*x**2"
      ],
      "metadata": {
        "id": "_olIYFGCTxi9"
      },
      "execution_count": null,
      "outputs": []
    },
    {
      "cell_type": "code",
      "source": [
        "ans = g(3) + h(4)\n",
        "print(ans)"
      ],
      "metadata": {
        "colab": {
          "base_uri": "https://localhost:8080/"
        },
        "id": "4z6udzDfT6xP",
        "outputId": "24f9bca6-182f-4021-9814-f2f6153b6dab"
      },
      "execution_count": null,
      "outputs": [
        {
          "output_type": "stream",
          "name": "stdout",
          "text": [
            "380\n"
          ]
        }
      ]
    },
    {
      "cell_type": "code",
      "source": [
        "ans = g(2) + h(3)\n",
        "print(ans)"
      ],
      "metadata": {
        "colab": {
          "base_uri": "https://localhost:8080/"
        },
        "id": "a_hbpEv3UFs9",
        "outputId": "aa1cb0d0-72d4-4c72-95f3-b11f0d1157ef"
      },
      "execution_count": null,
      "outputs": [
        {
          "output_type": "stream",
          "name": "stdout",
          "text": [
            "550\n"
          ]
        }
      ]
    },
    {
      "cell_type": "code",
      "source": [
        "import mymodule as mm\n",
        "\n",
        "mm.factorial(5)"
      ],
      "metadata": {
        "colab": {
          "base_uri": "https://localhost:8080/"
        },
        "id": "xF7ww1uWVElL",
        "outputId": "5fbd6854-f5f6-4f5b-9d82-6491a7406e45"
      },
      "execution_count": null,
      "outputs": [
        {
          "output_type": "execute_result",
          "data": {
            "text/plain": [
              "120"
            ]
          },
          "metadata": {},
          "execution_count": 74
        }
      ]
    },
    {
      "cell_type": "code",
      "source": [
        "from mymodule import a\n",
        "\n",
        "ans = a + 3\n",
        "print(ans)"
      ],
      "metadata": {
        "colab": {
          "base_uri": "https://localhost:8080/"
        },
        "id": "d6m4bTk-Vd9U",
        "outputId": "6ebf5f5a-b935-4fa9-dfaa-442585516a07"
      },
      "execution_count": null,
      "outputs": [
        {
          "output_type": "stream",
          "name": "stdout",
          "text": [
            "5.5\n"
          ]
        }
      ]
    }
  ]
}