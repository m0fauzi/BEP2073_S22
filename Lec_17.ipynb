{
  "nbformat": 4,
  "nbformat_minor": 0,
  "metadata": {
    "colab": {
      "provenance": [],
      "authorship_tag": "ABX9TyMChfkluGR829vJLxoMMDcl",
      "include_colab_link": true
    },
    "kernelspec": {
      "name": "python3",
      "display_name": "Python 3"
    },
    "language_info": {
      "name": "python"
    }
  },
  "cells": [
    {
      "cell_type": "markdown",
      "metadata": {
        "id": "view-in-github",
        "colab_type": "text"
      },
      "source": [
        "<a href=\"https://colab.research.google.com/github/m0fauzi/BEP2073_S22/blob/main/Lec_17.ipynb\" target=\"_parent\"><img src=\"https://colab.research.google.com/assets/colab-badge.svg\" alt=\"Open In Colab\"/></a>"
      ]
    },
    {
      "cell_type": "code",
      "execution_count": 9,
      "metadata": {
        "id": "R7WP9ALmQhFq"
      },
      "outputs": [],
      "source": [
        "class operation:\n",
        "  R = 8.143\n",
        "  def Sum(self,x,y):\n",
        "    return x + y"
      ]
    },
    {
      "cell_type": "code",
      "source": [
        "f = operation()\n",
        "x = int(input('x = '))\n",
        "y = int(input('y = '))\n",
        "ans = f.Sum(x,y)\n",
        "print(ans)\n",
        "\n",
        "print(f.R)"
      ],
      "metadata": {
        "colab": {
          "base_uri": "https://localhost:8080/"
        },
        "id": "3o-BDRe0QxgY",
        "outputId": "9e0c419a-9338-4f73-a6c3-dc06a26c0335"
      },
      "execution_count": 10,
      "outputs": [
        {
          "output_type": "stream",
          "name": "stdout",
          "text": [
            "x = 1\n",
            "y = 2\n",
            "3\n",
            "8.143\n"
          ]
        }
      ]
    },
    {
      "cell_type": "code",
      "source": [
        "import pandas as pd\n",
        "import matplotlib.pyplot as plt\n",
        "import numpy as np\n",
        "import scipy.optimize as so\n",
        "\n",
        "data = pd.read_csv('data7_2.csv')\n",
        "T = data.Temp\n",
        "C = data.Cp\n",
        "\n",
        "def f(T,a0,a1,a2,a3,a4):\n",
        "  return a0 + a1*T + a2*T**2 + a3*T**3 + a4*T**4 \n",
        "\n",
        "a,c = so.curve_fit(f,T,C)\n",
        "a0,a1,a2,a3,a4 = a\n",
        "\n",
        "x = np.linspace(min(T),max(T),100)\n",
        "y = f(x,a0,a1,a2,a3,a4)\n",
        "\n",
        "plt.plot(T,C,'k.')\n",
        "plt.plot(x,y,'r-')\n",
        "\n",
        "for T in [220,345,450]:\n",
        "  plt.plot(T,f(T,a0,a1,a2,a3,a4),'bs')\n",
        "\n"
      ],
      "metadata": {
        "colab": {
          "base_uri": "https://localhost:8080/",
          "height": 265
        },
        "id": "M1-zL7bNUBMp",
        "outputId": "7f5decad-61e9-422d-8525-83a0dc9198d5"
      },
      "execution_count": 12,
      "outputs": [
        {
          "output_type": "display_data",
          "data": {
            "text/plain": [
              "<Figure size 432x288 with 1 Axes>"
            ],
            "image/png": "[encoded data removed]"
          },
          "metadata": {
            "needs_background": "light"
          }
        }
      ]
    },
    {
      "cell_type": "code",
      "source": [
        "#AI\n",
        "\n",
        "import tensorflow as tf\n",
        "from tensorflow import keras\n",
        "from tensorflow.keras import layers\n",
        "\n",
        "trn_Data = data.sample(frac = 0.8, random_state = 0)\n",
        "test_Data = data.drop(trn_Data.index)\n",
        "\n",
        "\n",
        "model = keras.Sequential([\n",
        "    layers.Dense(4,activation='relu'),\n",
        "    layers.Dense(4,activation='relu'),\n",
        "    layers.Dense(1)])\n",
        "\n",
        "input = trn_Data\n",
        "target = trn_Data.pop('Cp')\n",
        "\n",
        "model.compile(loss='mean_absolute_error',optimizer = tf.keras.optimizers.Adam(learning_rate=0.1))\n",
        "\n",
        "model.fit(input,target,validation_split = 0.2, \n",
        "          verbose = 0, epochs = 100)\n",
        "\n",
        "print(model.weights)\n"
      ],
      "metadata": {
        "colab": {
          "base_uri": "https://localhost:8080/"
        },
        "id": "nY2FO-AWX3wR",
        "outputId": "7f0363f4-a53a-4ae8-bdca-e361456df048"
      },
      "execution_count": 26,
      "outputs": [
        {
          "output_type": "stream",
          "name": "stdout",
          "text": [
            "[<tf.Variable 'dense_12/kernel:0' shape=(1, 4) dtype=float32, numpy=\n",
            "array([[-0.39767003, -0.04614115, -0.06327474, -0.8868767 ]],\n",
            "      dtype=float32)>, <tf.Variable 'dense_12/bias:0' shape=(4,) dtype=float32, numpy=array([0., 0., 0., 0.], dtype=float32)>, <tf.Variable 'dense_13/kernel:0' shape=(4, 4) dtype=float32, numpy=\n",
            "array([[-0.19461238, -0.69631076, -0.8515262 , -0.36192656],\n",
            "       [ 0.5942376 , -0.49438557,  0.51309997, -0.1194787 ],\n",
            "       [-0.0732426 ,  0.5300755 , -0.5789156 ,  0.8267477 ],\n",
            "       [ 0.834609  , -0.71060264,  0.21783191,  0.70724124]],\n",
            "      dtype=float32)>, <tf.Variable 'dense_13/bias:0' shape=(4,) dtype=float32, numpy=array([0., 0., 0., 0.], dtype=float32)>, <tf.Variable 'dense_14/kernel:0' shape=(4, 1) dtype=float32, numpy=\n",
            "array([[-0.12523288],\n",
            "       [ 0.3760513 ],\n",
            "       [-0.33056957],\n",
            "       [-0.01960945]], dtype=float32)>, <tf.Variable 'dense_14/bias:0' shape=(1,) dtype=float32, numpy=array([9.999998], dtype=float32)>]\n"
          ]
        }
      ]
    },
    {
      "cell_type": "code",
      "source": [
        "print(model.summary())"
      ],
      "metadata": {
        "colab": {
          "base_uri": "https://localhost:8080/"
        },
        "id": "QALLtGc9dnqq",
        "outputId": "1d6908c4-4b6b-47c9-944b-515f2cb74306"
      },
      "execution_count": 27,
      "outputs": [
        {
          "output_type": "stream",
          "name": "stdout",
          "text": [
            "Model: \"sequential_4\"\n",
            "_________________________________________________________________\n",
            " Layer (type)                Output Shape              Param #   \n",
            "=================================================================\n",
            " dense_12 (Dense)            (None, 4)                 8         \n",
            "                                                                 \n",
            " dense_13 (Dense)            (None, 4)                 20        \n",
            "                                                                 \n",
            " dense_14 (Dense)            (None, 1)                 5         \n",
            "                                                                 \n",
            "=================================================================\n",
            "Total params: 33\n",
            "Trainable params: 33\n",
            "Non-trainable params: 0\n",
            "_________________________________________________________________\n",
            "None\n"
          ]
        }
      ]
    },
    {
      "cell_type": "code",
      "source": [
        "x = pd.DataFrame([250],columns=['Temp'])\n",
        "CP_hat = model.predict(input).flatten()\n",
        "\n",
        "\n",
        "print(f(250,a0,a1,a2,a3,a4))\n",
        "#print(CP_hat)"
      ],
      "metadata": {
        "colab": {
          "base_uri": "https://localhost:8080/"
        },
        "id": "scXYHAU1eNw6",
        "outputId": "8f8f388d-7465-4b41-a078-bee4a1e21c37"
      },
      "execution_count": 36,
      "outputs": [
        {
          "output_type": "stream",
          "name": "stdout",
          "text": [
            "1/1 [==============================] - 0s 14ms/step\n",
            "79.03586066899359\n"
          ]
        }
      ]
    }
  ]
}