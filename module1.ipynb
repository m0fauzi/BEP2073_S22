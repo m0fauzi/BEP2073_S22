{
  "nbformat": 4,
  "nbformat_minor": 0,
  "metadata": {
    "colab": {
      "provenance": [],
      "authorship_tag": "ABX9TyP+gwyNifkJTTQ3h56VxKS9",
      "include_colab_link": true
    },
    "kernelspec": {
      "name": "python3",
      "display_name": "Python 3"
    },
    "language_info": {
      "name": "python"
    }
  },
  "cells": [
    {
      "cell_type": "markdown",
      "metadata": {
        "id": "view-in-github",
        "colab_type": "text"
      },
      "source": [
        "<a href=\"https://colab.research.google.com/github/m0fauzi/BEP2073_S22/blob/main/module1.ipynb\" target=\"_parent\"><img src=\"https://colab.research.google.com/assets/colab-badge.svg\" alt=\"Open In Colab\"/></a>"
      ]
    },
    {
      "cell_type": "code",
      "execution_count": null,
      "metadata": {
        "id": "E7Jlmat44QJj"
      },
      "outputs": [],
      "source": [
        "''' \n",
        "This function is to calculate on the following:\n",
        "1. Number of mole of CO2\n",
        "2. Volume of ideal gas of CO2\n",
        "'''\n",
        "\n",
        "# Function to calculate number of mole\n",
        "def n(m):\n",
        "  mw = 12 + 2*16\n",
        "  return m/mw\n",
        "\n",
        "# Gas constant\n",
        "R = 0.08206\n",
        "\n",
        "\n",
        "def volume(m,T,P):\n",
        "  '''Function to calculate volume'''\n",
        "  V = n(m)*R*T/P\n",
        "  return V\n",
        "\n"
      ]
    }
  ]
}