{
  "nbformat": 4,
  "nbformat_minor": 0,
  "metadata": {
    "colab": {
      "provenance": [],
      "authorship_tag": "ABX9TyNUsWmdtVljIeDAEgBouWYj",
      "include_colab_link": true
    },
    "kernelspec": {
      "name": "python3",
      "display_name": "Python 3"
    },
    "language_info": {
      "name": "python"
    }
  },
  "cells": [
    {
      "cell_type": "markdown",
      "metadata": {
        "id": "view-in-github",
        "colab_type": "text"
      },
      "source": [
        "<a href=\"https://colab.research.google.com/github/m0fauzi/BEP2073_S22/blob/main/Lec8.ipynb\" target=\"_parent\"><img src=\"https://colab.research.google.com/assets/colab-badge.svg\" alt=\"Open In Colab\"/></a>"
      ]
    },
    {
      "cell_type": "code",
      "execution_count": 1,
      "metadata": {
        "colab": {
          "base_uri": "https://localhost:8080/",
          "height": 282
        },
        "id": "kkfHgns5FjfJ",
        "outputId": "50c25a75-7bb1-46ca-861a-e48d821e85f7"
      },
      "outputs": [
        {
          "output_type": "execute_result",
          "data": {
            "text/plain": [
              "[<matplotlib.lines.Line2D at 0x7f29d14e7a90>]"
            ]
          },
          "metadata": {},
          "execution_count": 1
        },
        {
          "output_type": "display_data",
          "data": {
            "text/plain": [
              "<Figure size 432x288 with 1 Axes>"
            ],
            "image/png": "[encoded data removed]"
          },
          "metadata": {
            "needs_background": "light"
          }
        }
      ],
      "source": [
        "import matplotlib.pyplot as plt\n",
        "\n",
        "DO = [0,8,16,24,32,40]\n",
        "T = [14.621,11.843,9.870,8.470,]\n",
        "\n",
        "plt.plot(T,DO,'*')\n",
        "\n",
        "#5 minutes"
      ]
    },
    {
      "cell_type": "code",
      "source": [
        "# 3 minutes\n",
        "# Q. Plot y vs x\n",
        "\n",
        "# Given, y = sin(x), where x is from -pi to pi\n",
        "\n",
        "import math\n",
        "import numpy\n",
        "# Matrix approach\n",
        "pi = 22/7\n",
        "x =  numpy.arange(-pi,pi,pi/5)\n",
        "y =  numpy.sin(x)\n",
        "plt.plot(x,y,'.b')\n",
        "plt.show()\n",
        "\n",
        "# Iteration approach\n",
        "X = numpy.linspace(-pi,pi,10)\n",
        "for x in X:\n",
        "  y = math.sin(x)\n",
        "  plt.plot(x,y,'.r')\n",
        "plt.show()\n",
        "\n",
        "# Iteration approach\n",
        "X = numpy.linspace(-pi,pi,10)\n",
        "for i in range(len(X)):\n",
        "  y = math.sin(X[i])\n",
        "  plt.plot(i,y,'.k')"
      ],
      "metadata": {
        "id": "7UcCj_cEHzho",
        "colab": {
          "base_uri": "https://localhost:8080/",
          "height": 761
        },
        "outputId": "303e6d52-1c00-4f0d-d618-06b8abaff0c4"
      },
      "execution_count": 13,
      "outputs": [
        {
          "output_type": "display_data",
          "data": {
            "text/plain": [
              "<Figure size 432x288 with 1 Axes>"
            ],
            "image/png": "[encoded data removed]"
          },
          "metadata": {
            "needs_background": "light"
          }
        },
        {
          "output_type": "display_data",
          "data": {
            "text/plain": [
              "<Figure size 432x288 with 1 Axes>"
            ],
            "image/png": "[encoded data removed]"
          },
          "metadata": {
            "needs_background": "light"
          }
        },
        {
          "output_type": "display_data",
          "data": {
            "text/plain": [
              "<Figure size 432x288 with 1 Axes>"
            ],
            "image/png": "[encoded data removed]"
          },
          "metadata": {
            "needs_background": "light"
          }
        }
      ]
    },
    {
      "cell_type": "code",
      "source": [
        "#Q1. By using numpy, create list of array in \n",
        "# between 1 to 100 and display the odd number \n",
        "# from this array.\n",
        "\n",
        "Num = numpy.linspace(1,100,100)\n",
        "for i,n in enumerate(Num):\n",
        "  if n%2 == 1:\n",
        "    print('Iter: %d, Number = %d'%(i,n))\n",
        "\n"
      ],
      "metadata": {
        "colab": {
          "base_uri": "https://localhost:8080/"
        },
        "id": "pV2sr0zJMQnU",
        "outputId": "ea1f6526-9422-4613-b9c7-29ca55071f60"
      },
      "execution_count": 17,
      "outputs": [
        {
          "output_type": "stream",
          "name": "stdout",
          "text": [
            "Iter: 0, Number = 1\n",
            "Iter: 2, Number = 3\n",
            "Iter: 4, Number = 5\n",
            "Iter: 6, Number = 7\n",
            "Iter: 8, Number = 9\n",
            "Iter: 10, Number = 11\n",
            "Iter: 12, Number = 13\n",
            "Iter: 14, Number = 15\n",
            "Iter: 16, Number = 17\n",
            "Iter: 18, Number = 19\n",
            "Iter: 20, Number = 21\n",
            "Iter: 22, Number = 23\n",
            "Iter: 24, Number = 25\n",
            "Iter: 26, Number = 27\n",
            "Iter: 28, Number = 29\n",
            "Iter: 30, Number = 31\n",
            "Iter: 32, Number = 33\n",
            "Iter: 34, Number = 35\n",
            "Iter: 36, Number = 37\n",
            "Iter: 38, Number = 39\n",
            "Iter: 40, Number = 41\n",
            "Iter: 42, Number = 43\n",
            "Iter: 44, Number = 45\n",
            "Iter: 46, Number = 47\n",
            "Iter: 48, Number = 49\n",
            "Iter: 50, Number = 51\n",
            "Iter: 52, Number = 53\n",
            "Iter: 54, Number = 55\n",
            "Iter: 56, Number = 57\n",
            "Iter: 58, Number = 59\n",
            "Iter: 60, Number = 61\n",
            "Iter: 62, Number = 63\n",
            "Iter: 64, Number = 65\n",
            "Iter: 66, Number = 67\n",
            "Iter: 68, Number = 69\n",
            "Iter: 70, Number = 71\n",
            "Iter: 72, Number = 73\n",
            "Iter: 74, Number = 75\n",
            "Iter: 76, Number = 77\n",
            "Iter: 78, Number = 79\n",
            "Iter: 80, Number = 81\n",
            "Iter: 82, Number = 83\n",
            "Iter: 84, Number = 85\n",
            "Iter: 86, Number = 87\n",
            "Iter: 88, Number = 89\n",
            "Iter: 90, Number = 91\n",
            "Iter: 92, Number = 93\n",
            "Iter: 94, Number = 95\n",
            "Iter: 96, Number = 97\n",
            "Iter: 98, Number = 99\n"
          ]
        }
      ]
    },
    {
      "cell_type": "code",
      "source": [
        "# Q2. Plot y versus x for a function of y = sin(x) \n",
        "# from π to 2π. Display and test the program whether \n",
        "# point at coordinate (x = 3, y = 0.5) is on the graph.\n",
        "\n",
        "import numpy as np\n",
        "import matplotlib.pyplot as plt\n",
        "\n",
        "X = np.linspace(np.pi,2*np.pi,20)\n",
        "Y = np.sin(X)\n",
        "plt.plot(X,Y,'-k')\n",
        "x,y = 3, 0.5\n",
        "plt.plot(x,y,'sr')\n",
        "plt.show()\n",
        "\n",
        "\n"
      ],
      "metadata": {
        "colab": {
          "base_uri": "https://localhost:8080/",
          "height": 265
        },
        "id": "NqW4O471NNCa",
        "outputId": "a49d8597-19ab-4720-d086-0453286a2c93"
      },
      "execution_count": 21,
      "outputs": [
        {
          "output_type": "display_data",
          "data": {
            "text/plain": [
              "<Figure size 432x288 with 1 Axes>"
            ],
            "image/png": "[encoded data removed]"
          },
          "metadata": {
            "needs_background": "light"
          }
        }
      ]
    },
    {
      "cell_type": "code",
      "source": [
        "numpy?"
      ],
      "metadata": {
        "id": "A0sofVLgSp1O"
      },
      "execution_count": 29,
      "outputs": []
    },
    {
      "cell_type": "code",
      "source": [
        "import numpy as np\n",
        "import math\n",
        "\n",
        "r,L = 2, 5\n",
        "h = float(input('Height: '))\n",
        "for i in range(3):\n",
        "  if h >= r:\n",
        "    print('Height MUST lesser than %d'%r)\n",
        "    h = float(input('Height : '))\n",
        "  else:\n",
        "    break\n",
        "else:\n",
        "  print('No more try...')\n",
        "V = (r**2*math.acos((r-h)/r) - (r-h)*np.sqrt(2*r*h-h**2) )*L \n",
        "plt.plot(h,V,'sr')\n",
        "s = '(h = '+str(h)+', V = '+str(round(V,2))+')'\n",
        "plt.text(h, 0.8*V, s, fontsize=12)\n",
        "\n",
        "H = np.linspace(0,2,100)\n",
        "for h in H:\n",
        "  V = (r**2*math.acos((r-h)/r) - (r-h)*np.sqrt(2*r*h-h**2) )*L \n",
        "  plt.plot(h,V,'.k')\n",
        "plt.xlabel('height, h[m]')\n",
        "plt.ylabel('Volume, V[m3]')\n",
        "plt.show()\n",
        "\n",
        "\n"
      ],
      "metadata": {
        "colab": {
          "base_uri": "https://localhost:8080/",
          "height": 296
        },
        "id": "0RcLuhYTPNcB",
        "outputId": "9bc1c458-ee9e-4748-f0bd-7a2e3aee2f6c"
      },
      "execution_count": 41,
      "outputs": [
        {
          "name": "stdout",
          "output_type": "stream",
          "text": [
            "Height: 1.7\n"
          ]
        },
        {
          "output_type": "display_data",
          "data": {
            "text/plain": [
              "<Figure size 432x288 with 1 Axes>"
            ],
            "image/png": "[encoded data removed]"
          },
          "metadata": {
            "needs_background": "light"
          }
        }
      ]
    },
    {
      "cell_type": "code",
      "source": [
        "#%d for integer\n",
        "#%f for decimal point\n",
        "#%s for text\n",
        "\n",
        "x = input('x: ')\n",
        "print(type(x))\n",
        "ans = 2*x\n",
        "print(ans)\n",
        "\n",
        "y = int(input('x: '))\n",
        "print(type(y))\n",
        "ans = 2*y\n",
        "print(ans)"
      ],
      "metadata": {
        "colab": {
          "base_uri": "https://localhost:8080/"
        },
        "id": "0TBQhPkEWGeV",
        "outputId": "b77646fa-ebb9-47ff-f838-39efa156d271"
      },
      "execution_count": 51,
      "outputs": [
        {
          "output_type": "stream",
          "name": "stdout",
          "text": [
            "x: 3\n",
            "<class 'str'>\n",
            "33\n",
            "x: 3\n",
            "<class 'int'>\n",
            "6\n"
          ]
        }
      ]
    }
  ]
}