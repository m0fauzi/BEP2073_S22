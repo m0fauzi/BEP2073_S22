{
  "nbformat": 4,
  "nbformat_minor": 0,
  "metadata": {
    "colab": {
      "provenance": [],
      "authorship_tag": "ABX9TyNVr3IcKqpu1+6ZyMfrUqV2",
      "include_colab_link": true
    },
    "kernelspec": {
      "name": "python3",
      "display_name": "Python 3"
    },
    "language_info": {
      "name": "python"
    }
  },
  "cells": [
    {
      "cell_type": "markdown",
      "metadata": {
        "id": "view-in-github",
        "colab_type": "text"
      },
      "source": [
        "<a href=\"https://colab.research.google.com/github/m0fauzi/BEP2073_S22/blob/main/Lec_12.ipynb\" target=\"_parent\"><img src=\"https://colab.research.google.com/assets/colab-badge.svg\" alt=\"Open In Colab\"/></a>"
      ]
    },
    {
      "cell_type": "code",
      "execution_count": null,
      "metadata": {
        "colab": {
          "base_uri": "https://localhost:8080/"
        },
        "id": "lsIZFa5nLanz",
        "outputId": "0240c494-3d99-4a5b-ddac-36e3825185de"
      },
      "outputs": [
        {
          "output_type": "stream",
          "name": "stdout",
          "text": [
            "1.6487212707001282\n"
          ]
        }
      ],
      "source": [
        "# Numpy revision\n",
        "\n",
        "# Find y = exp(x), when x = 0.5\n",
        "import numpy as np\n",
        "x = 0.5\n",
        "y = np.exp(x)\n",
        "print(y)\n",
        "\n"
      ]
    },
    {
      "cell_type": "code",
      "source": [
        "# Numpy revision\n",
        "\n",
        "# Find y = exp(x), \n",
        "# when x = from -pi to pi\n",
        "\n",
        "import numpy as np\n",
        "pi = 22/7\n",
        "x = np.linspace(-pi,pi,10)\n",
        "y = np.exp(x)\n",
        "print(y)"
      ],
      "metadata": {
        "colab": {
          "base_uri": "https://localhost:8080/"
        },
        "id": "Yq8nl5luMM6U",
        "outputId": "1a7709ad-8e28-4530-d68a-657dcf037fcb"
      },
      "execution_count": null,
      "outputs": [
        {
          "output_type": "stream",
          "name": "stdout",
          "text": [
            "[ 0.04315931  0.08677433  0.17446489  0.35077193  0.70524759  1.41794175\n",
            "  2.85085528  5.7318122  11.52414552 23.1699723 ]\n"
          ]
        }
      ]
    },
    {
      "cell_type": "code",
      "source": [
        "import numpy as np\n",
        "pi = 22/7\n",
        "X = np.linspace(-pi,pi,10)\n",
        "for i in range(len(X)):\n",
        "  y = np.exp(X[i])\n",
        "  print(y)"
      ],
      "metadata": {
        "colab": {
          "base_uri": "https://localhost:8080/"
        },
        "id": "vLVi1QIyM9J-",
        "outputId": "7d92db69-a1a6-477e-86d0-994ecd094282"
      },
      "execution_count": null,
      "outputs": [
        {
          "output_type": "stream",
          "name": "stdout",
          "text": [
            "0.0431593092614526\n",
            "0.08677432947392923\n",
            "0.17446489261530407\n",
            "0.3507719269028113\n",
            "0.705247587974144\n",
            "1.4179417513111188\n",
            "2.8508552803231315\n",
            "5.7318122002058285\n",
            "11.524145517026932\n",
            "23.16997229826248\n"
          ]
        }
      ]
    },
    {
      "cell_type": "code",
      "source": [
        "# Revision Matplotlib\n",
        "# Given y = exp(x), plot y vs x \n",
        "# for x from -pi to pi\n",
        "\n",
        "import numpy as np\n",
        "import matplotlib.pyplot as plt\n",
        "from math import pi\n",
        "\n",
        "x = np.linspace(-pi,pi,10)\n",
        "y = np.exp(x)\n",
        "plt.plot(x,y,'k.')\n",
        "plt.show()\n",
        "\n"
      ],
      "metadata": {
        "colab": {
          "base_uri": "https://localhost:8080/",
          "height": 265
        },
        "id": "gjGROflSNvXY",
        "outputId": "6d9c1e9d-2fb2-4721-8a03-f6b08c1920b5"
      },
      "execution_count": null,
      "outputs": [
        {
          "output_type": "display_data",
          "data": {
            "text/plain": [
              "<Figure size 432x288 with 1 Axes>"
            ],
            "image/png": "[encoded data removed]"
          },
          "metadata": {
            "needs_background": "light"
          }
        }
      ]
    },
    {
      "cell_type": "code",
      "source": [
        "import pandas as pd\n",
        "\n",
        "data = pd.read_csv('Data1.csv')\n",
        "print(data)"
      ],
      "metadata": {
        "colab": {
          "base_uri": "https://localhost:8080/"
        },
        "id": "NDUjR2TLPGwt",
        "outputId": "ac048113-9427-40ae-8148-6104d6d6a0d4"
      },
      "execution_count": null,
      "outputs": [
        {
          "output_type": "stream",
          "name": "stdout",
          "text": [
            "     653\n",
            "0    953\n",
            "1    838\n",
            "2    669\n",
            "3    125\n",
            "4    523\n",
            "..   ...\n",
            "694  475\n",
            "695  171\n",
            "696  666\n",
            "697   37\n",
            "698  102\n",
            "\n",
            "[699 rows x 1 columns]\n"
          ]
        }
      ]
    },
    {
      "cell_type": "code",
      "source": [
        "import pandas as pd\n",
        "\n",
        "data = pd.read_csv('Data1a.csv')\n",
        "print(data)"
      ],
      "metadata": {
        "colab": {
          "base_uri": "https://localhost:8080/"
        },
        "id": "nyMGPQF6Sm2v",
        "outputId": "02e6628d-ea3d-4805-e75e-a38624b7e269"
      },
      "execution_count": null,
      "outputs": [
        {
          "output_type": "stream",
          "name": "stdout",
          "text": [
            "     x\n",
            "0  653\n",
            "1  953\n",
            "2  838\n",
            "3  669\n",
            "4  125\n"
          ]
        }
      ]
    },
    {
      "cell_type": "code",
      "source": [
        "print(data.x[0])"
      ],
      "metadata": {
        "colab": {
          "base_uri": "https://localhost:8080/"
        },
        "id": "Aw2SWd5ZT2oX",
        "outputId": "a4eada62-c35b-4c6e-a27c-c075e30cb65d"
      },
      "execution_count": null,
      "outputs": [
        {
          "output_type": "stream",
          "name": "stdout",
          "text": [
            "653\n"
          ]
        }
      ]
    },
    {
      "cell_type": "code",
      "source": [
        "# find total odd number in data1a.csv\n",
        "import pandas as pd\n",
        "data = pd.read_csv('Data1a.csv')\n",
        "count = 0\n",
        "for i in data.x:\n",
        "  if i%2 == 1:\n",
        "    count = count + 1\n",
        "print(count)"
      ],
      "metadata": {
        "colab": {
          "base_uri": "https://localhost:8080/"
        },
        "id": "P0qD3BESUwJv",
        "outputId": "71d16a56-db3d-4e17-db70-6914937fc3f3"
      },
      "execution_count": null,
      "outputs": [
        {
          "output_type": "stream",
          "name": "stdout",
          "text": [
            "366\n"
          ]
        }
      ]
    }
  ]
}