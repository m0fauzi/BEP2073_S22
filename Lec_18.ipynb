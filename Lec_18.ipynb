{
  "nbformat": 4,
  "nbformat_minor": 0,
  "metadata": {
    "colab": {
      "provenance": [],
      "authorship_tag": "ABX9TyOJ2AgrkMoFC9sm5xWrG+tJ",
      "include_colab_link": true
    },
    "kernelspec": {
      "name": "python3",
      "display_name": "Python 3"
    },
    "language_info": {
      "name": "python"
    }
  },
  "cells": [
    {
      "cell_type": "markdown",
      "metadata": {
        "id": "view-in-github",
        "colab_type": "text"
      },
      "source": [
        "<a href=\"https://colab.research.google.com/github/m0fauzi/BEP2073_S22/blob/main/Lec_18.ipynb\" target=\"_parent\"><img src=\"https://colab.research.google.com/assets/colab-badge.svg\" alt=\"Open In Colab\"/></a>"
      ]
    },
    {
      "cell_type": "code",
      "execution_count": 11,
      "metadata": {
        "colab": {
          "base_uri": "https://localhost:8080/"
        },
        "id": "koNSMDvyQunQ",
        "outputId": "386928c9-cbc5-4be7-97c7-57aac88fd81c"
      },
      "outputs": [
        {
          "output_type": "stream",
          "name": "stdout",
          "text": [
            "0    22.889643\n",
            "1    10.603929\n",
            "2    -1.681786\n",
            "3   -13.967500\n",
            "4   -26.253214\n",
            "5   -38.538929\n",
            "dtype: float64\n",
            "-22.88964285714337\n",
            "-10.603928571428696\n",
            "1.6817857142850698\n",
            "13.967500000000655\n",
            "26.25321428571442\n",
            "38.53892857142819\n"
          ]
        }
      ],
      "source": [
        "import pandas as pd\n",
        "\n",
        "data = pd.read_csv('dataT2.csv')\n",
        "T = data.Temp\n",
        "\n",
        "def PFcn(T):\n",
        "  n,R,V = 1000/28,8.314,10\n",
        "  return n*R*(T + 273.15)/V\n",
        "\n",
        "#1\n",
        "Pclc = PFcn(T)\n",
        "P = data.Press\n",
        "Error = Pclc - P\n",
        "print(Error)\n",
        "\n",
        "# 2\n",
        "P = data.Press\n",
        "for i,t in enumerate(T):\n",
        "  Pclc = PFcn(t)\n",
        "  error = P[i] - Pclc\n",
        "  print(error)\n",
        "\n",
        "\n"
      ]
    },
    {
      "cell_type": "code",
      "source": [
        "def menu():\n",
        "  print('----------------------')\n",
        "  print('MENU')\n",
        "  print('----------------------')\n",
        "  print('[1] To Calculate Volume')\n",
        "  print('[x] To exit')\n",
        "  print('----------------------')\n",
        "  return input('Select [1] or [x]: ')\n",
        "\n",
        "def Vfun(h,R):\n",
        "  return 22/7 * h**2 * (3*R - h)/(3*h)\n",
        "\n",
        "while True:\n",
        "  sel = menu()\n",
        "  if sel == 'x':\n",
        "    print('Good bye')\n",
        "    break;\n",
        "  elif sel == '1':\n",
        "    h = int(input('h = '))\n",
        "    R = int(input('r = '))\n",
        "    try:\n",
        "      V = Vfun(h,R)\n",
        "      print('Volume = %0.3f'%V)\n",
        "    except:\n",
        "      print('Error in calculation')    \n",
        "  else:\n",
        "    print('Select either [1] or [x]')"
      ],
      "metadata": {
        "colab": {
          "base_uri": "https://localhost:8080/"
        },
        "id": "YLQRYNc6aY4R",
        "outputId": "813dc4ec-2d78-4b51-fc8e-dbb1068045f3"
      },
      "execution_count": 18,
      "outputs": [
        {
          "output_type": "stream",
          "name": "stdout",
          "text": [
            "----------------------\n",
            "MENU\n",
            "----------------------\n",
            "[1] To Calculate Volume\n",
            "[x] To exit\n",
            "----------------------\n",
            "Select [1] or [x]: 1\n",
            "h = 0\n",
            "r = 1\n",
            "Error in calculation\n",
            "----------------------\n",
            "MENU\n",
            "----------------------\n",
            "[1] To Calculate Volume\n",
            "[x] To exit\n",
            "----------------------\n",
            "Select [1] or [x]: x\n",
            "Good bye\n"
          ]
        }
      ]
    }
  ]
}