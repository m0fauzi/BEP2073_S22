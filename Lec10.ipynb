{
  "nbformat": 4,
  "nbformat_minor": 0,
  "metadata": {
    "colab": {
      "provenance": [],
      "authorship_tag": "ABX9TyOp16B+yympGHe/yd+wlZZA",
      "include_colab_link": true
    },
    "kernelspec": {
      "name": "python3",
      "display_name": "Python 3"
    },
    "language_info": {
      "name": "python"
    }
  },
  "cells": [
    {
      "cell_type": "markdown",
      "metadata": {
        "id": "view-in-github",
        "colab_type": "text"
      },
      "source": [
        "<a href=\"https://colab.research.google.com/github/m0fauzi/BEP2073_S22/blob/main/Lec10.ipynb\" target=\"_parent\"><img src=\"https://colab.research.google.com/assets/colab-badge.svg\" alt=\"Open In Colab\"/></a>"
      ]
    },
    {
      "cell_type": "code",
      "execution_count": null,
      "metadata": {
        "colab": {
          "base_uri": "https://localhost:8080/"
        },
        "id": "oo66JZYG2Hlx",
        "outputId": "0ff0e61d-b3f7-4cd6-ff0a-93d9250d59ed"
      },
      "outputs": [
        {
          "output_type": "stream",
          "name": "stdout",
          "text": [
            "Volume:  0.388 L\n"
          ]
        }
      ],
      "source": [
        "# Calculate volume for CO2 gas at certain mass, \n",
        "# pressure and temperature. Given: R = 0.08206 L (atm)/K (mol) \n",
        "# Case 1: m = 32 g, P = 50 atm, T = 325 K \n",
        "\n",
        "# PV = nRT\n",
        "n = 32/(12 + 2*16)\n",
        "R = 0.08206\n",
        "T = 325\n",
        "P = 50\n",
        "V = n*R*T/P\n",
        "print('Volume: ',round(V,3),'L')\n",
        "\n",
        "# Duration: 2 mins"
      ]
    },
    {
      "cell_type": "code",
      "source": [
        "# PV = nRT\n",
        "def n(m):\n",
        "  mw = 12 + 2*16\n",
        "  return m/mw\n",
        "\n",
        "m,T,P = 32,325,50\n",
        "R = 0.08206\n",
        "V = n(m)*R*T/P\n",
        "print('Volume: ',round(V,3),'L')"
      ],
      "metadata": {
        "colab": {
          "base_uri": "https://localhost:8080/"
        },
        "id": "m6sBGPEc3swk",
        "outputId": "fe5ba61c-f5cb-4954-ef1a-837c8476068d"
      },
      "execution_count": null,
      "outputs": [
        {
          "output_type": "stream",
          "name": "stdout",
          "text": [
            "Volume:  0.388 L\n"
          ]
        }
      ]
    },
    {
      "cell_type": "code",
      "source": [
        "import module1 as m1\n",
        "\n",
        "v = m1.volume(32,325,50)\n",
        "print('Volume of CO2: %0.3f L'%v)\n",
        "\n",
        "print(m1.R)\n",
        "\n",
        "mole = m1.n(50)\n",
        "print(mole)"
      ],
      "metadata": {
        "colab": {
          "base_uri": "https://localhost:8080/"
        },
        "id": "cqMc9Zif5b3b",
        "outputId": "43fd2f43-6ec5-41c2-c56b-c89794ce8c6f"
      },
      "execution_count": null,
      "outputs": [
        {
          "output_type": "stream",
          "name": "stdout",
          "text": [
            "Volume of CO2: 0.388 L\n",
            "0.08206\n",
            "1.1363636363636365\n"
          ]
        }
      ]
    },
    {
      "cell_type": "code",
      "source": [
        "from module1 import *\n",
        "\n",
        "v = volume(32,325,50)\n",
        "print('Volume of CO2: %0.3f L'%v)\n",
        "\n",
        "mole = n(90)\n",
        "print(mole)\n",
        "\n",
        "print(R)"
      ],
      "metadata": {
        "colab": {
          "base_uri": "https://localhost:8080/"
        },
        "id": "vZ9hh9HZ6W77",
        "outputId": "f0ad45aa-0aff-4a5d-e919-7583fc88b9fd"
      },
      "execution_count": null,
      "outputs": [
        {
          "output_type": "stream",
          "name": "stdout",
          "text": [
            "Volume of CO2: 0.388 L\n",
            "2.0454545454545454\n",
            "0.08206\n"
          ]
        }
      ]
    },
    {
      "cell_type": "code",
      "source": [
        "import module1 as m1\n",
        "m1.volume?"
      ],
      "metadata": {
        "id": "C8lpe0Nz7RSL"
      },
      "execution_count": null,
      "outputs": []
    },
    {
      "cell_type": "code",
      "source": [
        "import module2\n",
        "module2.R?"
      ],
      "metadata": {
        "id": "kM4gS_O48IRh"
      },
      "execution_count": null,
      "outputs": []
    },
    {
      "cell_type": "code",
      "source": [
        "# Plot CO2 volume for:\n",
        "# Case 2: m = 25 g, P = 10 to 70 atm, T = 450 K\n",
        "\n",
        "import matplotlib.pyplot as plt #visualisation\n",
        "import module1 as m1            #volume of CO2\n",
        "import numpy as np              #matrix manipulation\n",
        "\n",
        "P = np.linspace(10,70,6)\n",
        "for i,p in enumerate(P):\n",
        "  v = m1.volume(m = 25, T = 450, P = p)\n",
        "  plt.plot(i+1,v,'.k')\n",
        "  plt.text(i+1,v,str(p)+'atm')\n",
        "  \n",
        "plt.xlabel('number of study')\n",
        "plt.ylabel('Volume of CO2 [L]')\n",
        "plt.show()\n"
      ],
      "metadata": {
        "colab": {
          "base_uri": "https://localhost:8080/",
          "height": 279
        },
        "id": "0NHE0ld38m6i",
        "outputId": "2b64bdde-043f-4740-847f-ffe115ba3733"
      },
      "execution_count": null,
      "outputs": [
        {
          "output_type": "display_data",
          "data": {
            "text/plain": [
              "<Figure size 432x288 with 1 Axes>"
            ],
            "image/png": "[encoded data removed]"
          },
          "metadata": {
            "needs_background": "light"
          }
        }
      ]
    },
    {
      "cell_type": "code",
      "source": [
        "# Plot CO2 volume for:\n",
        "# Case 2: m = 25 g, P = 10 to 70 atm, T = 450 K\n",
        "\n",
        "import matplotlib.pyplot as plt #visualisation\n",
        "import module1 as m1            #volume of CO2\n",
        "import numpy as np              #matrix manipulation\n",
        "\n",
        "P = [10,20,30,40,50,60,70]\n",
        "for i,p in enumerate(P):\n",
        "  v = m1.volume(m = 25, T = 450, P = p)\n",
        "  plt.plot(p,v,'.k')\n",
        "  plt.text(p,v,str(round(v,2))+'L')\n",
        "  \n",
        "plt.xlabel('Pressure [atm]')\n",
        "plt.ylabel('Volume of CO2 [L]')\n",
        "plt.show()"
      ],
      "metadata": {
        "colab": {
          "base_uri": "https://localhost:8080/",
          "height": 279
        },
        "id": "df3U1t1V_mjo",
        "outputId": "c4550d6b-1251-4edd-b6e9-8d80650af759"
      },
      "execution_count": null,
      "outputs": [
        {
          "output_type": "display_data",
          "data": {
            "text/plain": [
              "<Figure size 432x288 with 1 Axes>"
            ],
            "image/png": "[encoded data removed]"
          },
          "metadata": {
            "needs_background": "light"
          }
        }
      ]
    },
    {
      "cell_type": "code",
      "source": [
        "# Class\n",
        "\n",
        "class car:\n",
        "  model = 'Honda'\n",
        "  year = 2020\n",
        "  engine = 2.0\n",
        "\n",
        "A = car()\n",
        "print(A.year)\n",
        "\n",
        "B = car()\n",
        "B.model = 'Toyota'\n",
        "B.year = 2022\n",
        "B.engine = 1.6\n",
        "\n",
        "C = car()\n",
        "C.model = 'Proton'\n",
        "\n",
        "print(A.model)\n",
        "print(B.model)\n",
        "print(C.model)"
      ],
      "metadata": {
        "colab": {
          "base_uri": "https://localhost:8080/"
        },
        "id": "zfIPUB0PAGpA",
        "outputId": "85876956-0bcb-455f-c15b-02ef7ac9928c"
      },
      "execution_count": null,
      "outputs": [
        {
          "output_type": "stream",
          "name": "stdout",
          "text": [
            "2020\n",
            "Honda\n",
            "Toyota\n",
            "Proton\n"
          ]
        }
      ]
    },
    {
      "cell_type": "code",
      "source": [
        "# Display complex number\n",
        "# print: 3 + 5j\n",
        "r  = int(input('Real number: '))\n",
        "c = int(input('Complex number: '))\n",
        "print(r,'+',c,'j')"
      ],
      "metadata": {
        "colab": {
          "base_uri": "https://localhost:8080/"
        },
        "id": "fpKB8yPwB2ZO",
        "outputId": "579259bd-be4c-4e14-9fc7-005b0d0761af"
      },
      "execution_count": null,
      "outputs": [
        {
          "output_type": "stream",
          "name": "stdout",
          "text": [
            "Real number: 5\n",
            "Complex number: 3\n",
            "5 + 3 j\n"
          ]
        }
      ]
    },
    {
      "cell_type": "code",
      "source": [
        "# Constructor in class\n",
        "\n",
        "class complex_number:\n",
        "  def __init__(self, rVal, cVal):\n",
        "    self.r = rVal\n",
        "    self.c = cVal\n",
        "\n",
        "  def get_data(self):\n",
        "        print(str(self.r) + ' + ' +str(self.c)+'j')\n"
      ],
      "metadata": {
        "id": "jWw3hRpYCfhd"
      },
      "execution_count": null,
      "outputs": []
    },
    {
      "cell_type": "code",
      "source": [
        "r  = int(input('Real number: '))\n",
        "c = int(input('Complex number: '))\n",
        "c = complex_number(r,c)\n",
        "c.get_data()"
      ],
      "metadata": {
        "colab": {
          "base_uri": "https://localhost:8080/"
        },
        "id": "-Rv4vuX-DdD8",
        "outputId": "7cc06207-4042-41ad-da0b-d57dc3ea2c1f"
      },
      "execution_count": null,
      "outputs": [
        {
          "output_type": "stream",
          "name": "stdout",
          "text": [
            "Real number: 5\n",
            "Complex number: 3\n",
            "5 + 3j\n"
          ]
        }
      ]
    },
    {
      "cell_type": "code",
      "source": [
        "# Demonstration for class case study\n",
        "\n",
        "while(1):\n",
        "  print('=========================')\n",
        "  print('MENU')\n",
        "  print('=========================')\n",
        "  print('Select on the following option')\n",
        "  print('[a] to Data entry')\n",
        "  print('[x] to exit')\n",
        "  sel = input('Option: ')\n",
        "  if sel == 'a':\n",
        "    print('Start Data Entry')\n",
        "  elif sel == 'x':\n",
        "    print('Good bye..')\n",
        "    break\n"
      ],
      "metadata": {
        "colab": {
          "base_uri": "https://localhost:8080/"
        },
        "id": "goOZRZ08E7rU",
        "outputId": "d20cf12d-5834-4637-d7a2-35e319ef1d55"
      },
      "execution_count": null,
      "outputs": [
        {
          "output_type": "stream",
          "name": "stdout",
          "text": [
            "=========================\n",
            "MENU\n",
            "=========================\n",
            "Select on the following option\n",
            "[a] to Data entry\n",
            "[x] to exit\n",
            "Option: a\n",
            "Start Data Entry\n",
            "=========================\n",
            "MENU\n",
            "=========================\n",
            "Select on the following option\n",
            "[a] to Data entry\n",
            "[x] to exit\n",
            "Option: a\n",
            "Start Data Entry\n",
            "=========================\n",
            "MENU\n",
            "=========================\n",
            "Select on the following option\n",
            "[a] to Data entry\n",
            "[x] to exit\n",
            "Option: x\n",
            "Good bye..\n"
          ]
        }
      ]
    },
    {
      "cell_type": "code",
      "source": [
        "import dataentry as de\n",
        "\n",
        "o = de.Student()\n",
        "o.addStudent('FAUZI')\n"
      ],
      "metadata": {
        "id": "rxi0hYR7GyXK"
      },
      "execution_count": null,
      "outputs": []
    },
    {
      "cell_type": "code",
      "source": [
        "# Demonstration for class case study\n",
        "import dataentry as de\n",
        "o = de.Student()\n",
        "\n",
        "while(1):\n",
        "  print('=========================')\n",
        "  print('MENU')\n",
        "  print('=========================')\n",
        "  print('Select on the following option')\n",
        "  print('[a] to Data entry')\n",
        "  print('[x] to exit')\n",
        "  sel = input('Option: ')\n",
        "  if sel == 'a':\n",
        "    studentName = input('Name: ')\n",
        "    o.addStudent(studentName)\n",
        "  elif sel == 'x':\n",
        "    print('Good bye..')\n",
        "    break\n"
      ],
      "metadata": {
        "colab": {
          "base_uri": "https://localhost:8080/"
        },
        "id": "SHkJrGwTHRXx",
        "outputId": "bb0ce69e-d36e-4196-a47d-8134edfcc27b"
      },
      "execution_count": null,
      "outputs": [
        {
          "output_type": "stream",
          "name": "stdout",
          "text": [
            "=========================\n",
            "MENU\n",
            "=========================\n",
            "Select on the following option\n",
            "[a] to Data entry\n",
            "[x] to exit\n",
            "Option: a\n",
            "Name: FAUZI\n",
            "=========================\n",
            "MENU\n",
            "=========================\n",
            "Select on the following option\n",
            "[a] to Data entry\n",
            "[x] to exit\n",
            "Option: a\n",
            "Name: Mike\n",
            "=========================\n",
            "MENU\n",
            "=========================\n",
            "Select on the following option\n",
            "[a] to Data entry\n",
            "[x] to exit\n",
            "Option: x\n",
            "Good bye..\n"
          ]
        }
      ]
    },
    {
      "cell_type": "code",
      "source": [
        "# Demonstration for class case study\n",
        "import dataentry_v1 as de\n",
        "o = de.Student()\n",
        "\n",
        "while(1):\n",
        "  print('=========================')\n",
        "  print('MENU')\n",
        "  print('=========================')\n",
        "  print('Select on the following option')\n",
        "  print('[a] to Data entry')\n",
        "  print('[d] to Display list')\n",
        "  print('[x] to exit')\n",
        "  sel = input('Option: ')\n",
        "  if sel == 'a':\n",
        "    studentName = input('Name: ')\n",
        "    o.addStudent(studentName)\n",
        "  elif sel == 'd':\n",
        "    o.displayList()\n",
        "  elif sel == 'x':\n",
        "    print('Good bye..')\n",
        "    break"
      ],
      "metadata": {
        "colab": {
          "base_uri": "https://localhost:8080/"
        },
        "id": "T1Hn95WbIPDD",
        "outputId": "3c64cc04-9e3f-404d-9c6c-9e27a9f052f8"
      },
      "execution_count": null,
      "outputs": [
        {
          "output_type": "stream",
          "name": "stdout",
          "text": [
            "=========================\n",
            "MENU\n",
            "=========================\n",
            "Select on the following option\n",
            "[a] to Data entry\n",
            "[d] to Display list\n",
            "[x] to exit\n",
            "Option: a\n",
            "Name: FAUZI\n",
            "=========================\n",
            "MENU\n",
            "=========================\n",
            "Select on the following option\n",
            "[a] to Data entry\n",
            "[d] to Display list\n",
            "[x] to exit\n",
            "Option: a\n",
            "Name: Mike\n",
            "=========================\n",
            "MENU\n",
            "=========================\n",
            "Select on the following option\n",
            "[a] to Data entry\n",
            "[d] to Display list\n",
            "[x] to exit\n",
            "Option: a\n",
            "Name: Lee\n",
            "=========================\n",
            "MENU\n",
            "=========================\n",
            "Select on the following option\n",
            "[a] to Data entry\n",
            "[d] to Display list\n",
            "[x] to exit\n",
            "Option: d\n",
            "FAUZI\n",
            "Mike\n",
            "Lee\n",
            "=========================\n",
            "MENU\n",
            "=========================\n",
            "Select on the following option\n",
            "[a] to Data entry\n",
            "[d] to Display list\n",
            "[x] to exit\n",
            "Option: a\n",
            "Name: Ali\n",
            "=========================\n",
            "MENU\n",
            "=========================\n",
            "Select on the following option\n",
            "[a] to Data entry\n",
            "[d] to Display list\n",
            "[x] to exit\n",
            "Option: d\n",
            "FAUZI\n",
            "Mike\n",
            "Lee\n",
            "Ali\n",
            "=========================\n",
            "MENU\n",
            "=========================\n",
            "Select on the following option\n",
            "[a] to Data entry\n",
            "[d] to Display list\n",
            "[x] to exit\n",
            "Option: x\n",
            "Good bye..\n"
          ]
        }
      ]
    },
    {
      "cell_type": "code",
      "source": [
        "label = ['ABC','DEF','HIG','FGT']\n",
        "print(label)\n",
        "label.remove('ABC')\n",
        "print(label)\n",
        "label.remove('UYT')\n",
        "print(label)"
      ],
      "metadata": {
        "colab": {
          "base_uri": "https://localhost:8080/",
          "height": 253
        },
        "id": "9z1b4f5uJNDb",
        "outputId": "82cc374e-57b5-4952-dcb4-c53853053033"
      },
      "execution_count": null,
      "outputs": [
        {
          "output_type": "stream",
          "name": "stdout",
          "text": [
            "['ABC', 'DEF', 'HIG', 'FGT']\n",
            "['DEF', 'HIG', 'FGT']\n"
          ]
        },
        {
          "output_type": "error",
          "ename": "ValueError",
          "evalue": "ignored",
          "traceback": [
            "\u001b[0;31m---------------------------------------------------------------------------\u001b[0m",
            "\u001b[0;31mValueError\u001b[0m                                Traceback (most recent call last)",
            "\u001b[0;32m<ipython-input-63-ac90859a7cdc>\u001b[0m in \u001b[0;36m<module>\u001b[0;34m\u001b[0m\n\u001b[1;32m      3\u001b[0m \u001b[0mlabel\u001b[0m\u001b[0;34m.\u001b[0m\u001b[0mremove\u001b[0m\u001b[0;34m(\u001b[0m\u001b[0;34m'ABC'\u001b[0m\u001b[0;34m)\u001b[0m\u001b[0;34m\u001b[0m\u001b[0;34m\u001b[0m\u001b[0m\n\u001b[1;32m      4\u001b[0m \u001b[0mprint\u001b[0m\u001b[0;34m(\u001b[0m\u001b[0mlabel\u001b[0m\u001b[0;34m)\u001b[0m\u001b[0;34m\u001b[0m\u001b[0;34m\u001b[0m\u001b[0m\n\u001b[0;32m----> 5\u001b[0;31m \u001b[0mlabel\u001b[0m\u001b[0;34m.\u001b[0m\u001b[0mremove\u001b[0m\u001b[0;34m(\u001b[0m\u001b[0;34m'UYT'\u001b[0m\u001b[0;34m)\u001b[0m\u001b[0;34m\u001b[0m\u001b[0;34m\u001b[0m\u001b[0m\n\u001b[0m\u001b[1;32m      6\u001b[0m \u001b[0mprint\u001b[0m\u001b[0;34m(\u001b[0m\u001b[0mlabel\u001b[0m\u001b[0;34m)\u001b[0m\u001b[0;34m\u001b[0m\u001b[0;34m\u001b[0m\u001b[0m\n",
            "\u001b[0;31mValueError\u001b[0m: list.remove(x): x not in list"
          ]
        }
      ]
    }
  ]
}