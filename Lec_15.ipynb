{
  "nbformat": 4,
  "nbformat_minor": 0,
  "metadata": {
    "colab": {
      "provenance": [],
      "authorship_tag": "ABX9TyPOw8lTYAZK7BqKVzlZjy9y",
      "include_colab_link": true
    },
    "kernelspec": {
      "name": "python3",
      "display_name": "Python 3"
    },
    "language_info": {
      "name": "python"
    }
  },
  "cells": [
    {
      "cell_type": "markdown",
      "metadata": {
        "id": "view-in-github",
        "colab_type": "text"
      },
      "source": [
        "<a href=\"https://colab.research.google.com/github/m0fauzi/BEP2073_S22/blob/main/Lec_15.ipynb\" target=\"_parent\"><img src=\"https://colab.research.google.com/assets/colab-badge.svg\" alt=\"Open In Colab\"/></a>"
      ]
    },
    {
      "cell_type": "markdown",
      "source": [
        "# Revision"
      ],
      "metadata": {
        "id": "wnQgKGUXQSgU"
      }
    },
    {
      "cell_type": "code",
      "execution_count": null,
      "metadata": {
        "id": "xc8mdUczFLCY"
      },
      "outputs": [],
      "source": [
        "# error  = analytical - approximation\n",
        "\n",
        "# abs error\n",
        "# % error\n",
        "\n",
        "# Approximation value? --> maclaurent serries\n",
        "# analitical value? -->\n",
        "\n",
        "import math\n",
        "# y = cos(x)\n",
        "y = ? when x = 2\n",
        "\n",
        "y = math.cos(2) #<-- analytical value\n",
        "\n",
        "x = 2\n",
        "err1 = y - ya1, n = 1\n",
        "err2 = y - ya2, n = 2\n",
        "err3 = y - ya3, n = 3\n",
        "\n",
        "# plot err vs degree (n)"
      ]
    },
    {
      "cell_type": "code",
      "source": [
        "def area(r):\n",
        "  pi = 22/7\n",
        "  return pi*r**2\n",
        "\n",
        "A = area(2)\n",
        "print(A)\n",
        "\n",
        "print(pi)\n",
        "\n"
      ],
      "metadata": {
        "colab": {
          "base_uri": "https://localhost:8080/",
          "height": 218
        },
        "id": "ye8aj3lIJNom",
        "outputId": "9db7c1b9-af17-4faa-ea27-eeda2a08147e"
      },
      "execution_count": 3,
      "outputs": [
        {
          "output_type": "stream",
          "name": "stdout",
          "text": [
            "12.571428571428571\n"
          ]
        },
        {
          "output_type": "error",
          "ename": "NameError",
          "evalue": "ignored",
          "traceback": [
            "\u001b[0;31m---------------------------------------------------------------------------\u001b[0m",
            "\u001b[0;31mNameError\u001b[0m                                 Traceback (most recent call last)",
            "\u001b[0;32m<ipython-input-3-f520b9471b24>\u001b[0m in \u001b[0;36m<module>\u001b[0;34m\u001b[0m\n\u001b[1;32m      6\u001b[0m \u001b[0mprint\u001b[0m\u001b[0;34m(\u001b[0m\u001b[0mA\u001b[0m\u001b[0;34m)\u001b[0m\u001b[0;34m\u001b[0m\u001b[0;34m\u001b[0m\u001b[0m\n\u001b[1;32m      7\u001b[0m \u001b[0;34m\u001b[0m\u001b[0m\n\u001b[0;32m----> 8\u001b[0;31m \u001b[0mprint\u001b[0m\u001b[0;34m(\u001b[0m\u001b[0mpi\u001b[0m\u001b[0;34m)\u001b[0m\u001b[0;34m\u001b[0m\u001b[0;34m\u001b[0m\u001b[0m\n\u001b[0m",
            "\u001b[0;31mNameError\u001b[0m: name 'pi' is not defined"
          ]
        }
      ]
    },
    {
      "cell_type": "code",
      "source": [
        "global M\n",
        "\n",
        "def funA(x,y):\n",
        "  global M\n",
        "  M = 2 + x\n",
        "  N = x + y\n",
        "  return M*N\n",
        "\n",
        "Ans = funA(x = 1,y = 2)\n",
        "print(Ans)\n",
        "\n",
        "print(M)"
      ],
      "metadata": {
        "colab": {
          "base_uri": "https://localhost:8080/"
        },
        "id": "HOTJG-daJ9Z2",
        "outputId": "bdd2dec3-c3b4-4b63-e44c-cc39c31d3313"
      },
      "execution_count": 9,
      "outputs": [
        {
          "output_type": "stream",
          "name": "stdout",
          "text": [
            "9\n",
            "3\n"
          ]
        }
      ]
    },
    {
      "cell_type": "markdown",
      "source": [
        "# Slide 7.1"
      ],
      "metadata": {
        "id": "afOUqJiEQNxD"
      }
    },
    {
      "cell_type": "code",
      "source": [
        "# Example 1: Nonlinear Curve Fitting\n",
        "import pandas as pd\n",
        "from scipy.optimize import curve_fit\n",
        "from numpy import log, linspace\n",
        "\n",
        "data = pd.read_csv('data7_1.csv')\n",
        "Y = data['y']\n",
        "X = data['x']\n",
        "\n",
        "def f1(x, a1, a2, a3):\n",
        "  return a1*x + a2/x + a3*log(x)\n",
        "\n",
        "a,c = curve_fit(f1,X,Y)\n",
        "a1,a2,a3 = a\n",
        "\n",
        "# y = ?  x = 1.5\n",
        "x = 1.5\n",
        "y = f1(x,a1,a2,a3)\n",
        "print('Approximation of y at x = %.2f is %.2f'%(x,y))"
      ],
      "metadata": {
        "colab": {
          "base_uri": "https://localhost:8080/"
        },
        "id": "wuPhy_GIQRGb",
        "outputId": "79b40e3c-5cc9-49f9-cdfd-0cd3825ea622"
      },
      "execution_count": 35,
      "outputs": [
        {
          "output_type": "stream",
          "name": "stdout",
          "text": [
            "Approximation of y at x = 1.50 is 19.25\n"
          ]
        }
      ]
    },
    {
      "cell_type": "code",
      "source": [
        "import matplotlib.pyplot as plt\n",
        "\n",
        "plt.plot(X,Y,'k.')\n",
        "plt.plot(x,y,'bs')\n",
        "\n",
        "xline = linspace(min(X),max(X),1000)\n",
        "yline = f1(xline,a1,a2,a3)\n",
        "\n",
        "plt.plot(xline,yline,'r')"
      ],
      "metadata": {
        "colab": {
          "base_uri": "https://localhost:8080/",
          "height": 282
        },
        "id": "jy464F--U59p",
        "outputId": "1599fe2e-8b19-45f8-bf32-58adfec2e7cb"
      },
      "execution_count": 40,
      "outputs": [
        {
          "output_type": "execute_result",
          "data": {
            "text/plain": [
              "[<matplotlib.lines.Line2D at 0x7f54ff97bf10>]"
            ]
          },
          "metadata": {},
          "execution_count": 40
        },
        {
          "output_type": "display_data",
          "data": {
            "text/plain": [
              "<Figure size 432x288 with 1 Axes>"
            ],
            "image/png": "[encoded data removed]"
          },
          "metadata": {
            "needs_background": "light"
          }
        }
      ]
    },
    {
      "cell_type": "code",
      "source": [
        "yline = f1(X,a1,a2,a3)\n",
        "plt.plot(yline,Y,'k.')\n",
        "plt.plot(Y,Y,'r')\n"
      ],
      "metadata": {
        "colab": {
          "base_uri": "https://localhost:8080/",
          "height": 282
        },
        "id": "YiMEpIxJW8uR",
        "outputId": "62b9861d-bf4d-469a-f25b-56e98bfc56af"
      },
      "execution_count": 44,
      "outputs": [
        {
          "output_type": "execute_result",
          "data": {
            "text/plain": [
              "[<matplotlib.lines.Line2D at 0x7f54ff83b110>]"
            ]
          },
          "metadata": {},
          "execution_count": 44
        },
        {
          "output_type": "display_data",
          "data": {
            "text/plain": [
              "<Figure size 432x288 with 1 Axes>"
            ],
            "image/png": "[encoded data removed]"
          },
          "metadata": {
            "needs_background": "light"
          }
        }
      ]
    }
  ]
}