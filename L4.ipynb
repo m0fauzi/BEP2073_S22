{
  "nbformat": 4,
  "nbformat_minor": 0,
  "metadata": {
    "colab": {
      "provenance": [],
      "authorship_tag": "ABX9TyO0FRgv4nj1BXUHP0eti3Jj",
      "include_colab_link": true
    },
    "kernelspec": {
      "name": "python3",
      "display_name": "Python 3"
    },
    "language_info": {
      "name": "python"
    }
  },
  "cells": [
    {
      "cell_type": "markdown",
      "metadata": {
        "id": "view-in-github",
        "colab_type": "text"
      },
      "source": [
        "<a href=\"https://colab.research.google.com/github/m0fauzi/BEP2073_S22/blob/main/L4.ipynb\" target=\"_parent\"><img src=\"https://colab.research.google.com/assets/colab-badge.svg\" alt=\"Open In Colab\"/></a>"
      ]
    },
    {
      "cell_type": "code",
      "execution_count": 13,
      "metadata": {
        "colab": {
          "base_uri": "https://localhost:8080/"
        },
        "id": "OQwWIHmIBFSh",
        "outputId": "ac87b7c0-8ebd-4b0e-b224-3f81089836fa"
      },
      "outputs": [
        {
          "output_type": "stream",
          "name": "stdout",
          "text": [
            "Total possible number is 3\n"
          ]
        }
      ],
      "source": [
        "X = [10,20,20,20]\n",
        "Y = [10,25,30,40]\n",
        "c = 0\n",
        "for i in range(4):\n",
        "  a = X[i]\n",
        "  for j in range(4):\n",
        "    b = Y[j]\n",
        "    #print(Y[j])\n",
        "    s = a + b\n",
        "    if s>50:\n",
        "      c = c + 1\n",
        "print('Total possible number is',c)\n"
      ]
    },
    {
      "cell_type": "code",
      "source": [
        "x = [0,1,2,3,4,5,6,7,8,9,10]\n",
        "sum = 0\n",
        "for i in range(11):\n",
        "  s = x[i]%2  \n",
        "  if s == 0 and x[i] != 0:\n",
        "    sum = sum + x[i]\n",
        "print(sum)  "
      ],
      "metadata": {
        "colab": {
          "base_uri": "https://localhost:8080/"
        },
        "id": "dxg5lO6YJT_L",
        "outputId": "ea0673e5-d96b-413f-e8f8-f0d0c7ee08b8"
      },
      "execution_count": 25,
      "outputs": [
        {
          "output_type": "stream",
          "name": "stdout",
          "text": [
            "30\n"
          ]
        }
      ]
    },
    {
      "cell_type": "code",
      "source": [
        "sum = 0\n",
        "for x in range(50,101,1):\n",
        "  s = x%2  \n",
        "  if s == 0 and x != 0:\n",
        "    sum = sum + x\n",
        "\n",
        "print(sum) "
      ],
      "metadata": {
        "colab": {
          "base_uri": "https://localhost:8080/"
        },
        "id": "DrtiyudpLUNA",
        "outputId": "0f463260-7a4f-437c-96bc-4a73fbfc914a"
      },
      "execution_count": 32,
      "outputs": [
        {
          "output_type": "stream",
          "name": "stdout",
          "text": [
            "1950\n"
          ]
        }
      ]
    },
    {
      "cell_type": "code",
      "source": [
        "# Question 2\n",
        "# Write a python program to read three \n",
        "# numbers (a,b,c) and check how many numbers \n",
        "# between ‘a’ and ‘b’ are divisible by ‘c’\n",
        "\n",
        "a,b,c = 4,15,3\n",
        "count = 0\n",
        "for x in range (a,b):\n",
        "  if x%c == 0:\n",
        "    count += 1 \n",
        "print(count)\n"
      ],
      "metadata": {
        "colab": {
          "base_uri": "https://localhost:8080/"
        },
        "id": "1OinfSnUOSQi",
        "outputId": "676ae58a-bc0f-4724-c6c6-216c8c4f6a42"
      },
      "execution_count": 34,
      "outputs": [
        {
          "output_type": "stream",
          "name": "stdout",
          "text": [
            "3\n"
          ]
        }
      ]
    }
  ]
}