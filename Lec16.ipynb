{
  "nbformat": 4,
  "nbformat_minor": 0,
  "metadata": {
    "colab": {
      "provenance": [],
      "authorship_tag": "ABX9TyMbHHMgJEh7228zfs5rpOVL",
      "include_colab_link": true
    },
    "kernelspec": {
      "name": "python3",
      "display_name": "Python 3"
    },
    "language_info": {
      "name": "python"
    }
  },
  "cells": [
    {
      "cell_type": "markdown",
      "metadata": {
        "id": "view-in-github",
        "colab_type": "text"
      },
      "source": [
        "<a href=\"https://colab.research.google.com/github/m0fauzi/BEP2073_S22/blob/main/Lec16.ipynb\" target=\"_parent\"><img src=\"https://colab.research.google.com/assets/colab-badge.svg\" alt=\"Open In Colab\"/></a>"
      ]
    },
    {
      "cell_type": "code",
      "execution_count": 6,
      "metadata": {
        "colab": {
          "base_uri": "https://localhost:8080/",
          "height": 282
        },
        "id": "pgsYvx03_qNl",
        "outputId": "d194a880-4cd6-40ca-a07e-b535565238ac"
      },
      "outputs": [
        {
          "output_type": "execute_result",
          "data": {
            "text/plain": [
              "[<matplotlib.lines.Line2D at 0x7fc94831fa90>]"
            ]
          },
          "metadata": {},
          "execution_count": 6
        },
        {
          "output_type": "display_data",
          "data": {
            "text/plain": [
              "<Figure size 432x288 with 2 Axes>"
            ],
            "image/png": "[encoded data removed]"
          },
          "metadata": {
            "needs_background": "light"
          }
        }
      ],
      "source": [
        "import pandas as pd\n",
        "import matplotlib.pyplot as plt\n",
        "\n",
        "data = pd.read_csv('data7_3.csv')\n",
        "\n",
        "\n",
        "trnData = data.sample(frac = 0.8,random_state = 0)\n",
        "testData = data.drop(trnData.index)\n",
        "\n",
        "plt.subplot(1,2,1)\n",
        "plt.plot(trnData.t,marker='.',linestyle='none')\n",
        "plt.subplot(1,2,2)\n",
        "plt.plot(trnData.c,marker='.',linestyle='none')"
      ]
    },
    {
      "cell_type": "code",
      "source": [
        "import tensorflow as tf\n",
        "from tensorflow import keras\n",
        "from tensorflow.keras import layers\n",
        "\n",
        "model = keras.Sequential([\n",
        "    layers.Dense(4,activation='relu'),\n",
        "    layers.Dense(4,activation='relu'),\n",
        "    layers.Dense(1),\n",
        "])"
      ],
      "metadata": {
        "id": "qnyLxs9CBTLn"
      },
      "execution_count": 8,
      "outputs": []
    },
    {
      "cell_type": "code",
      "source": [
        "# Train ANN model by using Gradient Decent Algorithm, SGD\n",
        "model.compile(optimizer = tf.keras.optimizers.Adam(learning_rate = 0.01), \n",
        "              loss = 'mean_absolute_error')\n",
        "\n",
        "\n",
        "trn_features = trnData.copy()\n",
        "test_features = testData.copy()\n",
        "\n",
        "input = trn_features.t\n",
        "target = trn_features.pop('c')\n",
        "\n",
        "\n",
        "hist = model.fit(input, target, validation_split = 0.2,verbose = 0, epochs = 100)\n"
      ],
      "metadata": {
        "id": "za5pk1-jB3om"
      },
      "execution_count": 16,
      "outputs": []
    },
    {
      "cell_type": "code",
      "source": [
        "model.weights"
      ],
      "metadata": {
        "id": "tWmdsGhJEga9"
      },
      "execution_count": null,
      "outputs": []
    },
    {
      "cell_type": "code",
      "source": [
        "c = model.predict(input).flatten()\n",
        "print(c[0])\n",
        "\n",
        "plt.plot(input,c,'k.')"
      ],
      "metadata": {
        "colab": {
          "base_uri": "https://localhost:8080/",
          "height": 317
        },
        "id": "JYI3R_cDEvVl",
        "outputId": "6ad30218-fca7-49b6-cf48-87d6bfb4fee7"
      },
      "execution_count": 24,
      "outputs": [
        {
          "output_type": "stream",
          "name": "stdout",
          "text": [
            "1/1 [==============================] - 0s 17ms/step\n",
            "37.37456\n"
          ]
        },
        {
          "output_type": "execute_result",
          "data": {
            "text/plain": [
              "[<matplotlib.lines.Line2D at 0x7fc8d65d8d90>]"
            ]
          },
          "metadata": {},
          "execution_count": 24
        },
        {
          "output_type": "display_data",
          "data": {
            "text/plain": [
              "<Figure size 432x288 with 1 Axes>"
            ],
            "image/png": "[encoded data removed]"
          },
          "metadata": {
            "needs_background": "light"
          }
        }
      ]
    }
  ]
}