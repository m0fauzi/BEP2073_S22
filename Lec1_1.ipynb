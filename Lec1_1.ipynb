{
  "nbformat": 4,
  "nbformat_minor": 0,
  "metadata": {
    "colab": {
      "provenance": [],
      "authorship_tag": "ABX9TyOF/wLZwMQ3LHnIQhxZCnFZ",
      "include_colab_link": true
    },
    "kernelspec": {
      "name": "python3",
      "display_name": "Python 3"
    },
    "language_info": {
      "name": "python"
    }
  },
  "cells": [
    {
      "cell_type": "markdown",
      "metadata": {
        "id": "view-in-github",
        "colab_type": "text"
      },
      "source": [
        "<a href=\"https://colab.research.google.com/github/m0fauzi/BEP2073_S22/blob/main/Lec1_1.ipynb\" target=\"_parent\"><img src=\"https://colab.research.google.com/assets/colab-badge.svg\" alt=\"Open In Colab\"/></a>"
      ]
    },
    {
      "cell_type": "code",
      "execution_count": 4,
      "metadata": {
        "colab": {
          "base_uri": "https://localhost:8080/"
        },
        "id": "HOI8-6qOA4_-",
        "outputId": "9fb9c55b-e692-4308-a548-ca465960ff44"
      },
      "outputs": [
        {
          "output_type": "stream",
          "name": "stdout",
          "text": [
            "a = 1\n",
            "3\n"
          ]
        }
      ],
      "source": [
        "a = input('a = ')\n",
        "ans = int(a) + 2\n",
        "print(ans)"
      ]
    },
    {
      "cell_type": "code",
      "source": [
        "fname = input('First Name =')\n",
        "lname = input('Last Name =')\n",
        "\n",
        "fullName = fname +' '+lname\n",
        "\n",
        "print(fullName)"
      ],
      "metadata": {
        "id": "v8ylKHn1Ehe0"
      },
      "execution_count": null,
      "outputs": []
    },
    {
      "cell_type": "code",
      "source": [
        "a = input('a = ')\n",
        "b = input('b = ')\n",
        "c = int(a) + int(b)\n",
        "\n",
        "#method 1\n",
        "print('For a = %s and b = %s, Answer is %d' %(a,b,c))\n",
        "\n",
        "#method 2\n",
        "print('For a =',a,' and b =',b,', Answer is',c)"
      ],
      "metadata": {
        "colab": {
          "base_uri": "https://localhost:8080/"
        },
        "id": "g34IHOcENL1w",
        "outputId": "a4b5e77e-672a-4c93-83ec-280366a654e1"
      },
      "execution_count": 12,
      "outputs": [
        {
          "output_type": "stream",
          "name": "stdout",
          "text": [
            "a = 8\n",
            "b = 5\n",
            "For a = 8 and b = 5, Answer is 13\n",
            "For a = 8  and b = 5 , Answer is 13\n"
          ]
        }
      ]
    },
    {
      "cell_type": "code",
      "source": [
        "x = input('x = ')\n",
        "Ans = int(x)**(1/5)\n",
        "print('The square-root of %s is %.2f' %(x,Ans))\n"
      ],
      "metadata": {
        "colab": {
          "base_uri": "https://localhost:8080/"
        },
        "id": "En3-wltaP_90",
        "outputId": "302118e2-2d94-45a6-fc66-e87c0e145a93"
      },
      "execution_count": 13,
      "outputs": [
        {
          "output_type": "stream",
          "name": "stdout",
          "text": [
            "x = 3\n",
            "The square-root of 3 is 1.25\n"
          ]
        }
      ]
    }
  ]
}