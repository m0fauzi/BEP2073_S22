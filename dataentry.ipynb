{
  "nbformat": 4,
  "nbformat_minor": 0,
  "metadata": {
    "colab": {
      "provenance": [],
      "authorship_tag": "ABX9TyMC8/U4yHFzPmDQRQWfNFlw",
      "include_colab_link": true
    },
    "kernelspec": {
      "name": "python3",
      "display_name": "Python 3"
    },
    "language_info": {
      "name": "python"
    }
  },
  "cells": [
    {
      "cell_type": "markdown",
      "metadata": {
        "id": "view-in-github",
        "colab_type": "text"
      },
      "source": [
        "<a href=\"https://colab.research.google.com/github/m0fauzi/BEP2073_S22/blob/main/dataentry.ipynb\" target=\"_parent\"><img src=\"https://colab.research.google.com/assets/colab-badge.svg\" alt=\"Open In Colab\"/></a>"
      ]
    },
    {
      "cell_type": "code",
      "execution_count": null,
      "metadata": {
        "id": "Cs4KyzGEGTl_"
      },
      "outputs": [],
      "source": [
        "class Student:\n",
        "    \n",
        "  def __init__(self):\n",
        "    self.StudentList = []\n",
        "   \n",
        "  def addStudent(self,name): \n",
        "    self.StudentList.append(name)\n",
        "\n",
        "  def displayList(self):\n",
        "    for name in self.StudentList:\n",
        "      print(name)\n",
        "\n",
        "  def deleteName(self,name):\n",
        "    # Note: check if the name is available\n",
        "    \n",
        "    self.StudentList.remove(name)"
      ]
    }
  ]
}