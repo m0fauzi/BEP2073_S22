{
  "nbformat": 4,
  "nbformat_minor": 0,
  "metadata": {
    "colab": {
      "provenance": [],
      "authorship_tag": "ABX9TyNpW5TmvzhVED8RJt+Ap5gn",
      "include_colab_link": true
    },
    "kernelspec": {
      "name": "python3",
      "display_name": "Python 3"
    },
    "language_info": {
      "name": "python"
    }
  },
  "cells": [
    {
      "cell_type": "markdown",
      "metadata": {
        "id": "view-in-github",
        "colab_type": "text"
      },
      "source": [
        "<a href=\"https://colab.research.google.com/github/m0fauzi/BEP2073_S22/blob/main/Lec_19.ipynb\" target=\"_parent\"><img src=\"https://colab.research.google.com/assets/colab-badge.svg\" alt=\"Open In Colab\"/></a>"
      ]
    },
    {
      "cell_type": "code",
      "execution_count": 5,
      "metadata": {
        "colab": {
          "base_uri": "https://localhost:8080/",
          "height": 586
        },
        "id": "6EBNXnmfKCfn",
        "outputId": "eb830c57-0537-4983-c493-6e1071660604"
      },
      "outputs": [
        {
          "output_type": "stream",
          "name": "stdout",
          "text": [
            "----------------------\n",
            "MENU\n",
            "----------------------\n",
            "[1] To Plot Pressure vs Volume\n",
            "[x] To exit\n",
            "----------------------\n",
            "Select [1] or [x]: 1\n",
            "m1 = 1\n",
            "m2 = 2\n",
            "m3= 3\n",
            "----------------------\n",
            "MENU\n",
            "----------------------\n",
            "[1] To Plot Pressure vs Volume\n",
            "[x] To exit\n",
            "----------------------\n",
            "Select [1] or [x]: x\n",
            "Good bye..!!\n"
          ]
        },
        {
          "output_type": "display_data",
          "data": {
            "text/plain": [
              "<Figure size 432x288 with 1 Axes>"
            ],
            "image/png": "[encoded data removed]"
          },
          "metadata": {
            "needs_background": "light"
          }
        }
      ],
      "source": [
        "import numpy as np\n",
        "import matplotlib.pyplot as plt\n",
        "\n",
        "def menu():\n",
        "  print('----------------------')\n",
        "  print('MENU')\n",
        "  print('----------------------')\n",
        "  print('[1] To Plot Pressure vs Volume')\n",
        "  print('[x] To exit')\n",
        "  print('----------------------')\n",
        "  return input('Select [1] or [x]: ')\n",
        "\n",
        "def Pfcn(m,V):\n",
        "  R,T = 286.7, 20+273.15\n",
        "  return m*R*T/V\n",
        "\n",
        "while True:\n",
        "  sel = menu()\n",
        "  if sel == 'x':\n",
        "    print('Good bye..!!')\n",
        "    break;\n",
        "  elif sel == '1':\n",
        "    m1 = int(input('m1 = '))\n",
        "    m2 = int(input('m2 = '))\n",
        "    m3 = int(input('m3= '))\n",
        "    pltclr=['k.','b.','g.']\n",
        "    a,b = 1,10\n",
        "    V = np.linspace(a,b,10)\n",
        "    for i,m in enumerate([m1,m2,m3]): \n",
        "      try:\n",
        "        for v in V:\n",
        "          P = Pfcn(m,v)\n",
        "          plt.plot(v,P,pltclr[i])\n",
        "      except:\n",
        "        print('Error in calculation')    \n",
        "  else:\n",
        "    print('Select either [1] or [x]')"
      ]
    },
    {
      "cell_type": "code",
      "source": [
        "import numpy as np\n",
        "import matplotlib.pyplot as plt\n",
        "\n",
        "def menu():\n",
        "  print('----------------------')\n",
        "  print('MENU')\n",
        "  print('----------------------')\n",
        "  print('[1] To Plot Pressure vs Volume')\n",
        "  print('[x] To exit')\n",
        "  print('----------------------')\n",
        "  return input('Select [1] or [x]: ')\n",
        "\n",
        "def Pfcn(m,V):\n",
        "  R,T = 286.7, 20+273.15\n",
        "  return m*R*T/V\n",
        "\n",
        "while True:\n",
        "  sel = menu()\n",
        "  if sel == 'x':\n",
        "    print('Good bye..!!')\n",
        "    break;\n",
        "  elif sel == '1':\n",
        "    a,b = 1,10\n",
        "    V = np.linspace(a,b,10)\n",
        "    m1 = int(input('m1 = '))\n",
        "    m2 = int(input('m2 = '))\n",
        "    m3 = int(input('m3 = '))\n",
        "    try:\n",
        "      P1 = Pfcn(m1,V)\n",
        "      P2 = Pfcn(m2,V)\n",
        "      P3 = Pfcn(m3,V)\n",
        "      plt.plot(V,P1)\n",
        "      plt.plot(V,P2)\n",
        "      plt.plot(V,P3)\n",
        "    except:\n",
        "        print('Error in calculation')    \n",
        "  else:\n",
        "    print('Select either [1] or [x]')"
      ],
      "metadata": {
        "colab": {
          "base_uri": "https://localhost:8080/",
          "height": 586
        },
        "id": "KwcC856WNEBk",
        "outputId": "3f9fe55e-fb0e-4d9f-bab4-9f9be7bb4f82"
      },
      "execution_count": 8,
      "outputs": [
        {
          "output_type": "stream",
          "name": "stdout",
          "text": [
            "----------------------\n",
            "MENU\n",
            "----------------------\n",
            "[1] To Plot Pressure vs Volume\n",
            "[x] To exit\n",
            "----------------------\n",
            "Select [1] or [x]: 1\n",
            "m1 = 1\n",
            "m2 = 2\n",
            "m3 = 3\n",
            "----------------------\n",
            "MENU\n",
            "----------------------\n",
            "[1] To Plot Pressure vs Volume\n",
            "[x] To exit\n",
            "----------------------\n",
            "Select [1] or [x]: x\n",
            "Good bye..!!\n"
          ]
        },
        {
          "output_type": "display_data",
          "data": {
            "text/plain": [
              "<Figure size 432x288 with 1 Axes>"
            ],
            "image/png": "[encoded data removed]"
          },
          "metadata": {
            "needs_background": "light"
          }
        }
      ]
    },
    {
      "cell_type": "code",
      "source": [
        "import pandas as pd\n",
        "\n",
        "data = pd.read_csv('dataQ2.csv')\n",
        "T = data.dTemp\n",
        "time = data.time\n",
        "Tdata = []\n",
        "tdata = []\n",
        "for i,t in enumerate(T): # [4,29,49]:\n",
        "  if i != 4 or i != 29 or i != 49:\n",
        "    Tdata.append(t)\n",
        "    tdata.append(time[i])\n",
        "\n",
        "# Step1 Find approximtion fcn\n",
        "\n",
        "# Step2 Let t from 0 to 10\n",
        "\n",
        "# Step3 Find y1 and y2\n",
        "\n",
        "# Step4 Plot y1 vs t and y2 vs t\n",
        "\n",
        "# Explain accuracy\n",
        "\n",
        "\n",
        "plt.plot(time,T,'r.')\n",
        "\n",
        "\n"
      ],
      "metadata": {
        "colab": {
          "base_uri": "https://localhost:8080/",
          "height": 1000
        },
        "id": "VeFgn8G3Pmco",
        "outputId": "59c2c892-58a8-4ed0-938a-40e52d9061ed"
      },
      "execution_count": 23,
      "outputs": [
        {
          "output_type": "stream",
          "name": "stdout",
          "text": [
            "    time      dTemp\n",
            "0      1   0.078900\n",
            "1      2   0.114741\n",
            "2      3   0.135725\n",
            "3      4   0.149228\n",
            "4      5        NaN\n",
            "5      6   0.359083\n",
            "6      7   0.548934\n",
            "7      8   0.325408\n",
            "8      9   0.793418\n",
            "9     10   0.940482\n",
            "10    11   1.563880\n",
            "11    12   1.700583\n",
            "12    13   1.210851\n",
            "13    14   1.577927\n",
            "14    15   1.590561\n",
            "15    16   3.808011\n",
            "16    17   3.012336\n",
            "17    18   1.123204\n",
            "18    19   6.653216\n",
            "19    20   2.122312\n",
            "20    21   9.532412\n",
            "21    22   9.774575\n",
            "22    23   3.614416\n",
            "23    24  13.131465\n",
            "24    25  14.591944\n",
            "25    26  15.059983\n",
            "26    27  11.486182\n",
            "27    28  22.408080\n",
            "28    29   7.500289\n",
            "29    30        NaN\n",
            "30    31  11.283220\n",
            "31    32  28.335952\n",
            "32    33  28.530939\n",
            "33    34  26.423988\n",
            "34    35  25.137382\n",
            "35    36   1.616434\n",
            "36    37  25.108539\n",
            "37    38  25.546321\n",
            "38    39   4.788195\n",
            "39    40  39.192653\n",
            "40    41   6.941856\n",
            "41    42  51.670476\n",
            "42    43  74.453647\n",
            "43    44  82.801468\n",
            "44    45  14.995053\n",
            "45    46  44.264839\n",
            "46    47   2.307370\n",
            "47    48  92.094917\n",
            "48    49   9.109592\n",
            "49    50        NaN\n",
            "50    51  47.916036\n",
            "51    52  47.248240\n",
            "52    53  90.469906\n",
            "53    54  38.155651\n",
            "54    55  65.496922\n",
            "55    56  32.437386\n",
            "56    57  79.615879\n",
            "57    58  59.279168\n"
          ]
        },
        {
          "output_type": "execute_result",
          "data": {
            "text/plain": [
              "[<matplotlib.lines.Line2D at 0x7f51ad512610>]"
            ]
          },
          "metadata": {},
          "execution_count": 23
        },
        {
          "output_type": "display_data",
          "data": {
            "text/plain": [
              "<Figure size 432x288 with 1 Axes>"
            ],
            "image/png": "[encoded data removed]"
          },
          "metadata": {
            "needs_background": "light"
          }
        }
      ]
    }
  ]
}